{
  "cells": [
    {
      "cell_type": "markdown",
      "metadata": {
        "id": "cpd6o6snv4f2"
      },
      "source": [
        "#Compétition 2\n",
        "Anshita Saxena, Denis Lemarchand ()"
      ]
    },
    {
      "cell_type": "markdown",
      "metadata": {
        "id": "f4Pkv3flyNNg"
      },
      "source": [
        "#Code"
      ]
    },
    {
      "cell_type": "code",
      "execution_count": null,
      "metadata": {
        "id": "FoLvWqWEvy82"
      },
      "outputs": [],
      "source": [
        "import numpy as np\n",
        "import pandas as pd"
      ]
    },
    {
      "cell_type": "markdown",
      "metadata": {
        "id": "JcyTy6CXyQ6Y"
      },
      "source": [
        "##Upload Kaggle File from Google Drive"
      ]
    },
    {
      "cell_type": "code",
      "execution_count": null,
      "metadata": {
        "cellView": "form",
        "colab": {
          "base_uri": "https://localhost:8080/"
        },
        "id": "2-uRO-bywXfn",
        "outputId": "aa2906db-e1d5-4c56-bf4b-c072024f5404"
      },
      "outputs": [
        {
          "name": "stdout",
          "output_type": "stream",
          "text": [
            "Looking in indexes: https://pypi.org/simple, https://us-python.pkg.dev/colab-wheels/public/simple/\n",
            "Requirement already satisfied: PyDrive in /usr/local/lib/python3.7/dist-packages (1.3.1)\n",
            "Requirement already satisfied: google-api-python-client>=1.2 in /usr/local/lib/python3.7/dist-packages (from PyDrive) (1.12.11)\n",
            "Requirement already satisfied: PyYAML>=3.0 in /usr/local/lib/python3.7/dist-packages (from PyDrive) (6.0)\n",
            "Requirement already satisfied: oauth2client>=4.0.0 in /usr/local/lib/python3.7/dist-packages (from PyDrive) (4.1.3)\n",
            "Requirement already satisfied: google-auth-httplib2>=0.0.3 in /usr/local/lib/python3.7/dist-packages (from google-api-python-client>=1.2->PyDrive) (0.0.4)\n",
            "Requirement already satisfied: google-api-core<3dev,>=1.21.0 in /usr/local/lib/python3.7/dist-packages (from google-api-python-client>=1.2->PyDrive) (2.8.2)\n",
            "Requirement already satisfied: httplib2<1dev,>=0.15.0 in /usr/local/lib/python3.7/dist-packages (from google-api-python-client>=1.2->PyDrive) (0.17.4)\n",
            "Requirement already satisfied: uritemplate<4dev,>=3.0.0 in /usr/local/lib/python3.7/dist-packages (from google-api-python-client>=1.2->PyDrive) (3.0.1)\n",
            "Requirement already satisfied: google-auth<3dev,>=1.16.0 in /usr/local/lib/python3.7/dist-packages (from google-api-python-client>=1.2->PyDrive) (2.14.1)\n",
            "Requirement already satisfied: six<2dev,>=1.13.0 in /usr/local/lib/python3.7/dist-packages (from google-api-python-client>=1.2->PyDrive) (1.15.0)\n",
            "Requirement already satisfied: requests<3.0.0dev,>=2.18.0 in /usr/local/lib/python3.7/dist-packages (from google-api-core<3dev,>=1.21.0->google-api-python-client>=1.2->PyDrive) (2.23.0)\n",
            "Requirement already satisfied: protobuf<5.0.0dev,>=3.15.0 in /usr/local/lib/python3.7/dist-packages (from google-api-core<3dev,>=1.21.0->google-api-python-client>=1.2->PyDrive) (3.19.6)\n",
            "Requirement already satisfied: googleapis-common-protos<2.0dev,>=1.56.2 in /usr/local/lib/python3.7/dist-packages (from google-api-core<3dev,>=1.21.0->google-api-python-client>=1.2->PyDrive) (1.57.0)\n",
            "Requirement already satisfied: pyasn1-modules>=0.2.1 in /usr/local/lib/python3.7/dist-packages (from google-auth<3dev,>=1.16.0->google-api-python-client>=1.2->PyDrive) (0.2.8)\n",
            "Requirement already satisfied: rsa<5,>=3.1.4 in /usr/local/lib/python3.7/dist-packages (from google-auth<3dev,>=1.16.0->google-api-python-client>=1.2->PyDrive) (4.9)\n",
            "Requirement already satisfied: cachetools<6.0,>=2.0.0 in /usr/local/lib/python3.7/dist-packages (from google-auth<3dev,>=1.16.0->google-api-python-client>=1.2->PyDrive) (5.2.0)\n",
            "Requirement already satisfied: pyasn1>=0.1.7 in /usr/local/lib/python3.7/dist-packages (from oauth2client>=4.0.0->PyDrive) (0.4.8)\n",
            "Requirement already satisfied: chardet<4,>=3.0.2 in /usr/local/lib/python3.7/dist-packages (from requests<3.0.0dev,>=2.18.0->google-api-core<3dev,>=1.21.0->google-api-python-client>=1.2->PyDrive) (3.0.4)\n",
            "Requirement already satisfied: certifi>=2017.4.17 in /usr/local/lib/python3.7/dist-packages (from requests<3.0.0dev,>=2.18.0->google-api-core<3dev,>=1.21.0->google-api-python-client>=1.2->PyDrive) (2022.9.24)\n",
            "Requirement already satisfied: idna<3,>=2.5 in /usr/local/lib/python3.7/dist-packages (from requests<3.0.0dev,>=2.18.0->google-api-core<3dev,>=1.21.0->google-api-python-client>=1.2->PyDrive) (2.10)\n",
            "Requirement already satisfied: urllib3!=1.25.0,!=1.25.1,<1.26,>=1.21.1 in /usr/local/lib/python3.7/dist-packages (from requests<3.0.0dev,>=2.18.0->google-api-core<3dev,>=1.21.0->google-api-python-client>=1.2->PyDrive) (1.24.3)\n"
          ]
        }
      ],
      "source": [
        "#@title Install PyDrive\n",
        "!pip install PyDrive"
      ]
    },
    {
      "cell_type": "code",
      "execution_count": null,
      "metadata": {
        "id": "wNF-CChvyt9K"
      },
      "outputs": [],
      "source": [
        "from pydrive.auth import GoogleAuth\n",
        "from pydrive.drive import GoogleDrive\n",
        "from google.colab import auth\n",
        "from oauth2client.client import GoogleCredentials\n",
        "\n",
        "#This notebook should access to Google Drive\n",
        "auth.authenticate_user()\n",
        "gauth = GoogleAuth()\n",
        "gauth.credentials = GoogleCredentials.get_application_default()\n",
        "drive = GoogleDrive(gauth)"
      ]
    },
    {
      "cell_type": "code",
      "execution_count": null,
      "metadata": {
        "id": "nwyJrWUby2G3"
      },
      "outputs": [],
      "source": [
        "# train data\n",
        "# https://drive.google.com/file/d/17cD6hFS_AfKxtfjKxfeNUkC44jfSYkGj/view?usp=sharing\n",
        "# train result\n",
        "# https://drive.google.com/file/d/1iEpwQ3B4d4gIUl3ynq_p74U1QKZTURem/view?usp=sharing\n",
        "# test data\n",
        "# https://drive.google.com/file/d/1QbhqakgLpBXWr5sMFSe-BQpFw_X2XZZR/view?usp=sharing\n",
        "\n",
        "#download Kaggle Files from Google Drive to store it in Colab Session\n",
        "downloaded = drive.CreateFile({'id':\"17cD6hFS_AfKxtfjKxfeNUkC44jfSYkGj\"})   \n",
        "downloaded.GetContentFile('train.csv') \n",
        "\n",
        "downloaded = drive.CreateFile({'id':\"1iEpwQ3B4d4gIUl3ynq_p74U1QKZTURem\"})   \n",
        "downloaded.GetContentFile('train_result.csv')    \n",
        "\n",
        "downloaded = drive.CreateFile({'id':\"1QbhqakgLpBXWr5sMFSe-BQpFw_X2XZZR\"})   \n",
        "downloaded.GetContentFile('test.csv')"
      ]
    },
    {
      "cell_type": "code",
      "execution_count": null,
      "metadata": {
        "colab": {
          "base_uri": "https://localhost:8080/"
        },
        "id": "Gc8y7p62l006",
        "outputId": "7d3be09e-99f9-429a-a3d5-a35377db3e86"
      },
      "outputs": [
        {
          "name": "stdout",
          "output_type": "stream",
          "text": [
            "Mounted at /content/gdrive\n"
          ]
        }
      ],
      "source": [
        "# Mount your Google Drive to Collaboratory\n",
        "from google.colab import drive \n",
        "drive.mount('/content/gdrive')"
      ]
    },
    {
      "cell_type": "code",
      "execution_count": null,
      "metadata": {
        "colab": {
          "base_uri": "https://localhost:8080/"
        },
        "id": "RF2vr98u1J8o",
        "outputId": "430c66b3-595c-4653-f4a3-b4a3359d1141"
      },
      "outputs": [
        {
          "name": "stdout",
          "output_type": "stream",
          "text": [
            "(1040323, 2)\n",
            "(1040323,)\n",
            "(560175, 2)\n"
          ]
        }
      ],
      "source": [
        "#\n",
        "df_train = pd.read_csv('train.csv')\n",
        "train = df_train.to_numpy()\n",
        "train_inputs = train[:]\n",
        "print(train_inputs.shape)\n",
        "\n",
        "#\n",
        "df_train_result = pd.read_csv('train_result.csv')\n",
        "train_results = df_train_result.to_numpy()\n",
        "train_labels = train_results[:,1]\n",
        "print(train_labels.shape)\n",
        "\n",
        "#\n",
        "df_test = pd.read_csv('test.csv')\n",
        "test = df_test.to_numpy()\n",
        "test_inputs = test[:]\n",
        "print(test_inputs.shape)"
      ]
    },
    {
      "cell_type": "code",
      "execution_count": null,
      "metadata": {
        "id": "nRzJOH61omF3"
      },
      "outputs": [],
      "source": [
        "#test\n",
        "df_test.to_csv('gdrive/MyDrive/test_data_gdrive.csv', index=False)"
      ]
    },
    {
      "cell_type": "code",
      "execution_count": null,
      "metadata": {
        "id": "d2llx4Hp-jQL"
      },
      "outputs": [],
      "source": [
        "train_labels[train_labels=='negative']=0\n",
        "train_labels[train_labels=='neutral']=1\n",
        "train_labels[train_labels=='positive']=2"
      ]
    },
    {
      "cell_type": "code",
      "execution_count": null,
      "metadata": {
        "colab": {
          "base_uri": "https://localhost:8080/"
        },
        "id": "LEz9i6JI16sP",
        "outputId": "8e021576-9906-4eb8-d649-4f89d5fd6ef4"
      },
      "outputs": [
        {
          "name": "stdout",
          "output_type": "stream",
          "text": [
            "[0 1 2]\n",
            "[628269 '@BJermain thanx buddy '] 2\n",
            "[317387 'i still want a red balloon. ']\n",
            "[0.49965539548774757, 8.074415349848076e-05, 0.5002638603587539]\n"
          ]
        }
      ],
      "source": [
        "# Smoke Tests\n",
        "list_classes = np.unique(train_labels)\n",
        "print(list_classes)\n",
        "\n",
        "n = np.random.randint(0, len(train_inputs))\n",
        "print(train_inputs[n], train_labels[n])\n",
        "\n",
        "n = np.random.randint(0, len(test_inputs))\n",
        "print(test_inputs[n])\n",
        "\n",
        "dist_train_labels = [np.sum(train_labels==0)/len(train_labels),\n",
        "  np.sum(train_labels==1)/len(train_labels),\n",
        "  np.sum(train_labels==2)/len(train_labels)]\n",
        "\n",
        "print(dist_train_labels)"
      ]
    },
    {
      "cell_type": "markdown",
      "metadata": {
        "id": "MkdjZxCE5rbP"
      },
      "source": [
        "##Generate submission file"
      ]
    },
    {
      "cell_type": "code",
      "execution_count": null,
      "metadata": {
        "id": "wvp8zXNM5u9C"
      },
      "outputs": [],
      "source": [
        "#make submission file from numpy data\n",
        "#The value of class should be 0, 1 or 2 with 0 being negative, 1 being neutral and 2 being positive class.\n",
        "def PrepareKaggleFile(test_inputs, test_predictions, file='tests_label.csv'):\n",
        "    output_data_for_kaggle = np.zeros((len(test_inputs),2))\n",
        "    for i in range(len(test_inputs)):\n",
        "      output_data_for_kaggle[i,0] = i\n",
        "      output_data_for_kaggle[i,1] = test_predictions[i]\n",
        "\n",
        "    output_data_for_kaggle = output_data_for_kaggle.astype(int)\n",
        "\n",
        "    print(output_data_for_kaggle)\n",
        "\n",
        "    df = pd.DataFrame(data=output_data_for_kaggle,columns=['id','target'])\n",
        "    df.to_csv(file,index=False)"
      ]
    },
    {
      "cell_type": "markdown",
      "metadata": {
        "id": "P77zweatljHf"
      },
      "source": [
        "##LSTM"
      ]
    },
    {
      "cell_type": "markdown",
      "metadata": {
        "id": "TuU-tw12LPa2"
      },
      "source": [
        "###Preprocessing"
      ]
    },
    {
      "cell_type": "code",
      "execution_count": null,
      "metadata": {
        "id": "Tr3hIyx8qMa7"
      },
      "outputs": [],
      "source": [
        "from sklearn.model_selection import train_test_split"
      ]
    },
    {
      "cell_type": "code",
      "execution_count": null,
      "metadata": {
        "colab": {
          "base_uri": "https://localhost:8080/"
        },
        "id": "dkHRZSB0a5iY",
        "outputId": "cac57b94-5afb-4a27-a4e6-55d3151e7adc"
      },
      "outputs": [
        {
          "data": {
            "text/plain": [
              "0    positive\n",
              "Name: target, dtype: object"
            ]
          },
          "execution_count": 12,
          "metadata": {},
          "output_type": "execute_result"
        }
      ],
      "source": [
        "df_train_result[\"target\"].iloc[:1]"
      ]
    },
    {
      "cell_type": "code",
      "execution_count": null,
      "metadata": {
        "id": "fkr4qD6VbkB3"
      },
      "outputs": [],
      "source": [
        "df_train_result[df_train_result[\"target\"]=='negative']=0\n",
        "df_train_result[df_train_result[\"target\"]=='neutral']=2 # As per IID \n",
        "df_train_result[df_train_result[\"target\"]=='positive']=2"
      ]
    },
    {
      "cell_type": "code",
      "execution_count": null,
      "metadata": {
        "id": "zM8OkkYOxMrQ"
      },
      "outputs": [],
      "source": [
        "pd_concat_df = pd.concat((df_train, df_train_result), axis = 1)"
      ]
    },
    {
      "cell_type": "code",
      "execution_count": null,
      "metadata": {
        "colab": {
          "base_uri": "https://localhost:8080/"
        },
        "id": "tBXtku03xd91",
        "outputId": "24fe3010-f92d-4042-a256-30b863341841"
      },
      "outputs": [
        {
          "data": {
            "text/plain": [
              "Series([], Name: target, dtype: object)"
            ]
          },
          "execution_count": 15,
          "metadata": {},
          "output_type": "execute_result"
        }
      ],
      "source": [
        "pd_concat_df.target[pd_concat_df[\"target\"]== 1] # Sanity check"
      ]
    },
    {
      "cell_type": "code",
      "execution_count": null,
      "metadata": {
        "colab": {
          "base_uri": "https://localhost:8080/"
        },
        "id": "h9ehkhhPNHI7",
        "outputId": "98593211-42a7-493b-f53e-09f75a751ae2"
      },
      "outputs": [
        {
          "name": "stdout",
          "output_type": "stream",
          "text": [
            "0    2\n",
            "1    0\n",
            "2    2\n",
            "3    2\n",
            "4    0\n",
            "5    0\n",
            "6    2\n",
            "7    0\n",
            "8    0\n",
            "9    0\n",
            "Name: target, dtype: object\n"
          ]
        }
      ],
      "source": [
        "print(df_train_result[\"target\"].iloc[0:10])"
      ]
    },
    {
      "cell_type": "code",
      "execution_count": null,
      "metadata": {
        "colab": {
          "base_uri": "https://localhost:8080/"
        },
        "id": "X5DXDWSBsROC",
        "outputId": "a20e726e-bfc1-432f-a80d-9e836632cccf"
      },
      "outputs": [
        {
          "name": "stdout",
          "output_type": "stream",
          "text": [
            "(1040323, 2)\n",
            "(1040323, 2)\n"
          ]
        }
      ],
      "source": [
        "print(df_train.shape)\n",
        "print(df_train_result.shape)"
      ]
    },
    {
      "cell_type": "code",
      "execution_count": null,
      "metadata": {
        "colab": {
          "base_uri": "https://localhost:8080/",
          "height": 206
        },
        "id": "OkL-VO8Ssbca",
        "outputId": "2a9fabe2-722f-4539-d9f6-600619a17a38"
      },
      "outputs": [
        {
          "data": {
            "text/html": [
              "\n",
              "  <div id=\"df-15db3681-cc2e-4485-ac7d-3972e1931eb2\">\n",
              "    <div class=\"colab-df-container\">\n",
              "      <div>\n",
              "<style scoped>\n",
              "    .dataframe tbody tr th:only-of-type {\n",
              "        vertical-align: middle;\n",
              "    }\n",
              "\n",
              "    .dataframe tbody tr th {\n",
              "        vertical-align: top;\n",
              "    }\n",
              "\n",
              "    .dataframe thead th {\n",
              "        text-align: right;\n",
              "    }\n",
              "</style>\n",
              "<table border=\"1\" class=\"dataframe\">\n",
              "  <thead>\n",
              "    <tr style=\"text-align: right;\">\n",
              "      <th></th>\n",
              "      <th>id</th>\n",
              "      <th>text</th>\n",
              "    </tr>\n",
              "  </thead>\n",
              "  <tbody>\n",
              "    <tr>\n",
              "      <th>0</th>\n",
              "      <td>0</td>\n",
              "      <td>Anyway Im getting of for a while</td>\n",
              "    </tr>\n",
              "    <tr>\n",
              "      <th>1</th>\n",
              "      <td>1</td>\n",
              "      <td>My red, Apache isn't feelin too well this morn...</td>\n",
              "    </tr>\n",
              "    <tr>\n",
              "      <th>2</th>\n",
              "      <td>2</td>\n",
              "      <td>@danyelljoy you should be  its great. friday w...</td>\n",
              "    </tr>\n",
              "    <tr>\n",
              "      <th>3</th>\n",
              "      <td>3</td>\n",
              "      <td>its 11:30pm and i dont wanna sleep; so i debat...</td>\n",
              "    </tr>\n",
              "    <tr>\n",
              "      <th>4</th>\n",
              "      <td>4</td>\n",
              "      <td>Why does twitter eat my DM's?  Not happy</td>\n",
              "    </tr>\n",
              "  </tbody>\n",
              "</table>\n",
              "</div>\n",
              "      <button class=\"colab-df-convert\" onclick=\"convertToInteractive('df-15db3681-cc2e-4485-ac7d-3972e1931eb2')\"\n",
              "              title=\"Convert this dataframe to an interactive table.\"\n",
              "              style=\"display:none;\">\n",
              "        \n",
              "  <svg xmlns=\"http://www.w3.org/2000/svg\" height=\"24px\"viewBox=\"0 0 24 24\"\n",
              "       width=\"24px\">\n",
              "    <path d=\"M0 0h24v24H0V0z\" fill=\"none\"/>\n",
              "    <path d=\"M18.56 5.44l.94 2.06.94-2.06 2.06-.94-2.06-.94-.94-2.06-.94 2.06-2.06.94zm-11 1L8.5 8.5l.94-2.06 2.06-.94-2.06-.94L8.5 2.5l-.94 2.06-2.06.94zm10 10l.94 2.06.94-2.06 2.06-.94-2.06-.94-.94-2.06-.94 2.06-2.06.94z\"/><path d=\"M17.41 7.96l-1.37-1.37c-.4-.4-.92-.59-1.43-.59-.52 0-1.04.2-1.43.59L10.3 9.45l-7.72 7.72c-.78.78-.78 2.05 0 2.83L4 21.41c.39.39.9.59 1.41.59.51 0 1.02-.2 1.41-.59l7.78-7.78 2.81-2.81c.8-.78.8-2.07 0-2.86zM5.41 20L4 18.59l7.72-7.72 1.47 1.35L5.41 20z\"/>\n",
              "  </svg>\n",
              "      </button>\n",
              "      \n",
              "  <style>\n",
              "    .colab-df-container {\n",
              "      display:flex;\n",
              "      flex-wrap:wrap;\n",
              "      gap: 12px;\n",
              "    }\n",
              "\n",
              "    .colab-df-convert {\n",
              "      background-color: #E8F0FE;\n",
              "      border: none;\n",
              "      border-radius: 50%;\n",
              "      cursor: pointer;\n",
              "      display: none;\n",
              "      fill: #1967D2;\n",
              "      height: 32px;\n",
              "      padding: 0 0 0 0;\n",
              "      width: 32px;\n",
              "    }\n",
              "\n",
              "    .colab-df-convert:hover {\n",
              "      background-color: #E2EBFA;\n",
              "      box-shadow: 0px 1px 2px rgba(60, 64, 67, 0.3), 0px 1px 3px 1px rgba(60, 64, 67, 0.15);\n",
              "      fill: #174EA6;\n",
              "    }\n",
              "\n",
              "    [theme=dark] .colab-df-convert {\n",
              "      background-color: #3B4455;\n",
              "      fill: #D2E3FC;\n",
              "    }\n",
              "\n",
              "    [theme=dark] .colab-df-convert:hover {\n",
              "      background-color: #434B5C;\n",
              "      box-shadow: 0px 1px 3px 1px rgba(0, 0, 0, 0.15);\n",
              "      filter: drop-shadow(0px 1px 2px rgba(0, 0, 0, 0.3));\n",
              "      fill: #FFFFFF;\n",
              "    }\n",
              "  </style>\n",
              "\n",
              "      <script>\n",
              "        const buttonEl =\n",
              "          document.querySelector('#df-15db3681-cc2e-4485-ac7d-3972e1931eb2 button.colab-df-convert');\n",
              "        buttonEl.style.display =\n",
              "          google.colab.kernel.accessAllowed ? 'block' : 'none';\n",
              "\n",
              "        async function convertToInteractive(key) {\n",
              "          const element = document.querySelector('#df-15db3681-cc2e-4485-ac7d-3972e1931eb2');\n",
              "          const dataTable =\n",
              "            await google.colab.kernel.invokeFunction('convertToInteractive',\n",
              "                                                     [key], {});\n",
              "          if (!dataTable) return;\n",
              "\n",
              "          const docLinkHtml = 'Like what you see? Visit the ' +\n",
              "            '<a target=\"_blank\" href=https://colab.research.google.com/notebooks/data_table.ipynb>data table notebook</a>'\n",
              "            + ' to learn more about interactive tables.';\n",
              "          element.innerHTML = '';\n",
              "          dataTable['output_type'] = 'display_data';\n",
              "          await google.colab.output.renderOutput(dataTable, element);\n",
              "          const docLink = document.createElement('div');\n",
              "          docLink.innerHTML = docLinkHtml;\n",
              "          element.appendChild(docLink);\n",
              "        }\n",
              "      </script>\n",
              "    </div>\n",
              "  </div>\n",
              "  "
            ],
            "text/plain": [
              "   id                                               text\n",
              "0   0                  Anyway Im getting of for a while \n",
              "1   1  My red, Apache isn't feelin too well this morn...\n",
              "2   2  @danyelljoy you should be  its great. friday w...\n",
              "3   3  its 11:30pm and i dont wanna sleep; so i debat...\n",
              "4   4          Why does twitter eat my DM's?  Not happy "
            ]
          },
          "execution_count": 18,
          "metadata": {},
          "output_type": "execute_result"
        }
      ],
      "source": [
        "df_train.head()"
      ]
    },
    {
      "cell_type": "code",
      "execution_count": null,
      "metadata": {
        "colab": {
          "base_uri": "https://localhost:8080/",
          "height": 206
        },
        "id": "uaPiRhSAsnh2",
        "outputId": "575d77d7-9682-4e25-8ed1-3cd705d50869"
      },
      "outputs": [
        {
          "data": {
            "text/html": [
              "\n",
              "  <div id=\"df-32a7255b-1d8e-4a88-a67c-c8be18d47c03\">\n",
              "    <div class=\"colab-df-container\">\n",
              "      <div>\n",
              "<style scoped>\n",
              "    .dataframe tbody tr th:only-of-type {\n",
              "        vertical-align: middle;\n",
              "    }\n",
              "\n",
              "    .dataframe tbody tr th {\n",
              "        vertical-align: top;\n",
              "    }\n",
              "\n",
              "    .dataframe thead th {\n",
              "        text-align: right;\n",
              "    }\n",
              "</style>\n",
              "<table border=\"1\" class=\"dataframe\">\n",
              "  <thead>\n",
              "    <tr style=\"text-align: right;\">\n",
              "      <th></th>\n",
              "      <th>id</th>\n",
              "      <th>target</th>\n",
              "    </tr>\n",
              "  </thead>\n",
              "  <tbody>\n",
              "    <tr>\n",
              "      <th>0</th>\n",
              "      <td>2</td>\n",
              "      <td>2</td>\n",
              "    </tr>\n",
              "    <tr>\n",
              "      <th>1</th>\n",
              "      <td>0</td>\n",
              "      <td>0</td>\n",
              "    </tr>\n",
              "    <tr>\n",
              "      <th>2</th>\n",
              "      <td>2</td>\n",
              "      <td>2</td>\n",
              "    </tr>\n",
              "    <tr>\n",
              "      <th>3</th>\n",
              "      <td>2</td>\n",
              "      <td>2</td>\n",
              "    </tr>\n",
              "    <tr>\n",
              "      <th>4</th>\n",
              "      <td>0</td>\n",
              "      <td>0</td>\n",
              "    </tr>\n",
              "  </tbody>\n",
              "</table>\n",
              "</div>\n",
              "      <button class=\"colab-df-convert\" onclick=\"convertToInteractive('df-32a7255b-1d8e-4a88-a67c-c8be18d47c03')\"\n",
              "              title=\"Convert this dataframe to an interactive table.\"\n",
              "              style=\"display:none;\">\n",
              "        \n",
              "  <svg xmlns=\"http://www.w3.org/2000/svg\" height=\"24px\"viewBox=\"0 0 24 24\"\n",
              "       width=\"24px\">\n",
              "    <path d=\"M0 0h24v24H0V0z\" fill=\"none\"/>\n",
              "    <path d=\"M18.56 5.44l.94 2.06.94-2.06 2.06-.94-2.06-.94-.94-2.06-.94 2.06-2.06.94zm-11 1L8.5 8.5l.94-2.06 2.06-.94-2.06-.94L8.5 2.5l-.94 2.06-2.06.94zm10 10l.94 2.06.94-2.06 2.06-.94-2.06-.94-.94-2.06-.94 2.06-2.06.94z\"/><path d=\"M17.41 7.96l-1.37-1.37c-.4-.4-.92-.59-1.43-.59-.52 0-1.04.2-1.43.59L10.3 9.45l-7.72 7.72c-.78.78-.78 2.05 0 2.83L4 21.41c.39.39.9.59 1.41.59.51 0 1.02-.2 1.41-.59l7.78-7.78 2.81-2.81c.8-.78.8-2.07 0-2.86zM5.41 20L4 18.59l7.72-7.72 1.47 1.35L5.41 20z\"/>\n",
              "  </svg>\n",
              "      </button>\n",
              "      \n",
              "  <style>\n",
              "    .colab-df-container {\n",
              "      display:flex;\n",
              "      flex-wrap:wrap;\n",
              "      gap: 12px;\n",
              "    }\n",
              "\n",
              "    .colab-df-convert {\n",
              "      background-color: #E8F0FE;\n",
              "      border: none;\n",
              "      border-radius: 50%;\n",
              "      cursor: pointer;\n",
              "      display: none;\n",
              "      fill: #1967D2;\n",
              "      height: 32px;\n",
              "      padding: 0 0 0 0;\n",
              "      width: 32px;\n",
              "    }\n",
              "\n",
              "    .colab-df-convert:hover {\n",
              "      background-color: #E2EBFA;\n",
              "      box-shadow: 0px 1px 2px rgba(60, 64, 67, 0.3), 0px 1px 3px 1px rgba(60, 64, 67, 0.15);\n",
              "      fill: #174EA6;\n",
              "    }\n",
              "\n",
              "    [theme=dark] .colab-df-convert {\n",
              "      background-color: #3B4455;\n",
              "      fill: #D2E3FC;\n",
              "    }\n",
              "\n",
              "    [theme=dark] .colab-df-convert:hover {\n",
              "      background-color: #434B5C;\n",
              "      box-shadow: 0px 1px 3px 1px rgba(0, 0, 0, 0.15);\n",
              "      filter: drop-shadow(0px 1px 2px rgba(0, 0, 0, 0.3));\n",
              "      fill: #FFFFFF;\n",
              "    }\n",
              "  </style>\n",
              "\n",
              "      <script>\n",
              "        const buttonEl =\n",
              "          document.querySelector('#df-32a7255b-1d8e-4a88-a67c-c8be18d47c03 button.colab-df-convert');\n",
              "        buttonEl.style.display =\n",
              "          google.colab.kernel.accessAllowed ? 'block' : 'none';\n",
              "\n",
              "        async function convertToInteractive(key) {\n",
              "          const element = document.querySelector('#df-32a7255b-1d8e-4a88-a67c-c8be18d47c03');\n",
              "          const dataTable =\n",
              "            await google.colab.kernel.invokeFunction('convertToInteractive',\n",
              "                                                     [key], {});\n",
              "          if (!dataTable) return;\n",
              "\n",
              "          const docLinkHtml = 'Like what you see? Visit the ' +\n",
              "            '<a target=\"_blank\" href=https://colab.research.google.com/notebooks/data_table.ipynb>data table notebook</a>'\n",
              "            + ' to learn more about interactive tables.';\n",
              "          element.innerHTML = '';\n",
              "          dataTable['output_type'] = 'display_data';\n",
              "          await google.colab.output.renderOutput(dataTable, element);\n",
              "          const docLink = document.createElement('div');\n",
              "          docLink.innerHTML = docLinkHtml;\n",
              "          element.appendChild(docLink);\n",
              "        }\n",
              "      </script>\n",
              "    </div>\n",
              "  </div>\n",
              "  "
            ],
            "text/plain": [
              "   id target\n",
              "0   2      2\n",
              "1   0      0\n",
              "2   2      2\n",
              "3   2      2\n",
              "4   0      0"
            ]
          },
          "execution_count": 19,
          "metadata": {},
          "output_type": "execute_result"
        }
      ],
      "source": [
        "df_train_result.head()"
      ]
    },
    {
      "cell_type": "code",
      "execution_count": null,
      "metadata": {
        "id": "b4sT5coTsqph"
      },
      "outputs": [],
      "source": [
        "import nltk                             \n",
        "from nltk.corpus import twitter_samples   \n",
        "import matplotlib.pyplot as plt           \n",
        "import random  \n",
        "import plotly.graph_objects as go"
      ]
    },
    {
      "cell_type": "code",
      "execution_count": null,
      "metadata": {
        "colab": {
          "base_uri": "https://localhost:8080/"
        },
        "id": "AMmLdi8PsxCW",
        "outputId": "b637b069-0548-4adb-cb71-2293bceacc43"
      },
      "outputs": [
        {
          "name": "stderr",
          "output_type": "stream",
          "text": [
            "[nltk_data] Downloading package stopwords to /root/nltk_data...\n",
            "[nltk_data]   Unzipping corpora/stopwords.zip.\n"
          ]
        }
      ],
      "source": [
        "nltk.download('stopwords')\n",
        "\n",
        "import re                                  \n",
        "import string                             \n",
        "from nltk.corpus import stopwords \n",
        "from nltk.stem import PorterStemmer\n",
        "from nltk.tokenize import TweetTokenizer"
      ]
    },
    {
      "cell_type": "code",
      "execution_count": null,
      "metadata": {
        "id": "cesaBe1l43kn"
      },
      "outputs": [],
      "source": [
        "df_train_clean = df_train.copy()"
      ]
    },
    {
      "cell_type": "code",
      "execution_count": null,
      "metadata": {
        "id": "CahohIOm0Szm"
      },
      "outputs": [],
      "source": [
        "# Converting all the upper case to lower case to avoid the distinction between them\n",
        "df_train_clean['text'] = df_train_clean.text.str.lower()\n",
        "# Putting the regex for removing the https and www URLs\n",
        "#df_train_clean.text = df_train_clean.text.apply(lambda x: re.sub(r'https?:\\/\\/\\S+', '', x))\n",
        "#df_train_clean.text = df_train_clean.text.apply(lambda x: re.sub(r\"www\\.[a-z]?\\.?(com)+|[a-z]+\\.(com)\", '', x))"
      ]
    },
    {
      "cell_type": "code",
      "execution_count": null,
      "metadata": {
        "id": "Xxv9bhQ-1i7l"
      },
      "outputs": [],
      "source": [
        "# Remove the video and links\n",
        "#df_train_clean.text = df_train_clean.text.apply(lambda x: re.sub(r'{link}', '', x))\n",
        "#df_train_clean.text = df_train_clean.text.apply(lambda x: re.sub(r\"\\[video\\]\", '', x))"
      ]
    },
    {
      "cell_type": "code",
      "execution_count": null,
      "metadata": {
        "id": "bkhS8CXN2J7U"
      },
      "outputs": [],
      "source": [
        "# Remove html reference characters\n",
        "#df_train_clean.text = df_train_clean.text.apply(lambda x: re.sub(r'&[a-z]+;', '', x))"
      ]
    },
    {
      "cell_type": "code",
      "execution_count": null,
      "metadata": {
        "id": "bsfu5kM42JtW"
      },
      "outputs": [],
      "source": [
        "#df_train_clean.head(20)"
      ]
    },
    {
      "cell_type": "code",
      "execution_count": null,
      "metadata": {
        "id": "0xBqnI6t91_H"
      },
      "outputs": [],
      "source": [
        "# Remove usernames\n",
        "#df_train_clean.text = df_train_clean.text.apply(lambda x: re.sub(r'@[^\\s]+', '', x))"
      ]
    },
    {
      "cell_type": "code",
      "execution_count": null,
      "metadata": {
        "id": "D9uhiYsY-BrN"
      },
      "outputs": [],
      "source": [
        "#df_train_clean.head(20)"
      ]
    },
    {
      "cell_type": "code",
      "execution_count": null,
      "metadata": {
        "id": "qjUUfNtU2Jcd"
      },
      "outputs": [],
      "source": [
        "# Removing numbers\n",
        "#df_train_clean.text = df_train_clean.text.apply(lambda x: re.sub(r'\\d+', '', x))"
      ]
    },
    {
      "cell_type": "code",
      "execution_count": null,
      "metadata": {
        "id": "uDvvO0wu3cBb"
      },
      "outputs": [],
      "source": [
        "#df_train_clean.head(20)"
      ]
    },
    {
      "cell_type": "code",
      "execution_count": null,
      "metadata": {
        "id": "9_tcDX_23gq8"
      },
      "outputs": [],
      "source": [
        "# Removing hashmarks, non-letter characters\n",
        "#df_train_clean.text = df_train_clean.text.apply(lambda x: re.sub(r\"[^a-z\\s\\(\\-:\\)\\\\\\/\\];='#]\", '', x))"
      ]
    },
    {
      "cell_type": "code",
      "execution_count": null,
      "metadata": {
        "id": "evB2fif73gge"
      },
      "outputs": [],
      "source": [
        "#df_train_clean.head(20)"
      ]
    },
    {
      "cell_type": "code",
      "execution_count": null,
      "metadata": {
        "id": "dDVYxxP-PU3j"
      },
      "outputs": [],
      "source": [
        "# Remove punctuation and numbers\n",
        "#def remove_punct(text):\n",
        "#    text  = \"\".join([char for char in text if char not in string.punctuation])\n",
        "#    text = re.sub('[0-9]+', '', text)\n",
        "#    return text\n",
        "\n",
        "#df_train_clean['text'] = df_train_clean['text'].apply(lambda x: remove_punct(x))\n",
        "#df_train_clean.head(10)"
      ]
    },
    {
      "cell_type": "code",
      "execution_count": null,
      "metadata": {
        "id": "SjfLhQ_lAGgA"
      },
      "outputs": [],
      "source": [
        "# Remove stop words\n",
        "#stopword_list = stopwords.words('english')\n",
        "#df_train_clean['text'] = df_train_clean['text'].apply(lambda x: ' '.join([word for word in x.split() if word not in (stopword_list)]))\n",
        "#df_train_clean.head(20)"
      ]
    },
    {
      "cell_type": "code",
      "execution_count": null,
      "metadata": {
        "id": "w0t8s6O9UzRK"
      },
      "outputs": [],
      "source": [
        "#df_train_clean_before_stemmer = df_train_clean.copy()"
      ]
    },
    {
      "cell_type": "code",
      "execution_count": null,
      "metadata": {
        "id": "vn5C7RuwVeCV"
      },
      "outputs": [],
      "source": [
        "#df_train_clean = df_train_clean_before_stemmer.copy()\n",
        "#df_train_clean.head()"
      ]
    },
    {
      "cell_type": "code",
      "execution_count": null,
      "metadata": {
        "id": "QQsR50wFAGqD"
      },
      "outputs": [],
      "source": [
        "# Snowball Stemmer is also known as the Porter2 stemming algorithm because it is a better version of the Porter Stemmer. It is more aggressive than Porter Stemmer.\n",
        "#from nltk.stem.snowball import SnowballStemmer\n",
        "#snowBallStemmer = SnowballStemmer(\"english\")\n",
        "#def stemming(text):\n",
        "#    text = [snowBallStemmer.stem(word) for word in text.split()]\n",
        "#    return ' '.join(text)\n",
        "\n",
        "#df_train_clean['text'] = df_train_clean['text'].apply(lambda x: stemming(x))\n",
        "#df_train_clean.head()"
      ]
    },
    {
      "cell_type": "code",
      "execution_count": null,
      "metadata": {
        "id": "sAP0xC8xXoui"
      },
      "outputs": [],
      "source": [
        "#df_train_clean.head(20)"
      ]
    },
    {
      "cell_type": "code",
      "execution_count": null,
      "metadata": {
        "id": "AmZoTbNrEzoi"
      },
      "outputs": [],
      "source": [
        "np.random.seed(1234)"
      ]
    },
    {
      "cell_type": "code",
      "execution_count": null,
      "metadata": {
        "colab": {
          "base_uri": "https://localhost:8080/"
        },
        "id": "o-LLNNqGE3Wg",
        "outputId": "5cbdb466-6366-40b2-d544-0224ab30aecb"
      },
      "outputs": [
        {
          "name": "stdout",
          "output_type": "stream",
          "text": [
            "anyway im getting of for a while \n",
            "(1040323,)\n"
          ]
        }
      ],
      "source": [
        "print(df_train_clean['text'][0])\n",
        "print(df_train_clean['text'].shape)"
      ]
    },
    {
      "cell_type": "code",
      "execution_count": null,
      "metadata": {
        "colab": {
          "base_uri": "https://localhost:8080/"
        },
        "id": "pyy_NBwIE3la",
        "outputId": "b1b3276a-092f-4304-d324-32fa23f7dccc"
      },
      "outputs": [
        {
          "name": "stdout",
          "output_type": "stream",
          "text": [
            "2\n",
            "(1040323,)\n"
          ]
        }
      ],
      "source": [
        "print(df_train_result['target'][0])\n",
        "print(df_train_result['target'].shape)"
      ]
    },
    {
      "cell_type": "markdown",
      "metadata": {
        "id": "YErJErdSJrHE"
      },
      "source": [
        "###Prepare dataset, split, tokeniser"
      ]
    },
    {
      "cell_type": "code",
      "execution_count": null,
      "metadata": {
        "id": "SA9KZaWv0ibU"
      },
      "outputs": [],
      "source": [
        "from tensorflow.keras.preprocessing.text import Tokenizer\n",
        "from tensorflow.keras.preprocessing.sequence import pad_sequences\n",
        "\n",
        "max_features = 10000\n",
        "tokenizer = Tokenizer(num_words=max_features, split=' ')\n",
        "\n",
        "df_test_clean = df_test.copy()\n",
        "# Converting all the upper case to lower case to avoid the distinction between them\n",
        "df_test_clean['text'] = df_test_clean.text.str.lower()\n",
        "\n",
        "df_all_text = df_train_clean['text'].append(df_test_clean['text'])"
      ]
    },
    {
      "cell_type": "code",
      "execution_count": null,
      "metadata": {
        "id": "9ae_xlqoqz6U"
      },
      "outputs": [],
      "source": [
        "tokenizer.fit_on_texts(df_all_text.values)"
      ]
    },
    {
      "cell_type": "code",
      "execution_count": null,
      "metadata": {
        "colab": {
          "base_uri": "https://localhost:8080/"
        },
        "id": "DOg3ayZh1lgF",
        "outputId": "4d104aab-48b2-4fed-e9af-bdb2b73b6aae"
      },
      "outputs": [
        {
          "name": "stdout",
          "output_type": "stream",
          "text": [
            "(1040323, 4)\n"
          ]
        }
      ],
      "source": [
        "print(pd_concat_df.shape)"
      ]
    },
    {
      "cell_type": "code",
      "execution_count": null,
      "metadata": {
        "id": "kDp-1Qzy0ieH"
      },
      "outputs": [],
      "source": [
        "#df_train, df_val, y_train, y_val = train_test_split(df_train_clean['text'], df_train_result['target'], random_state=42, test_size=0.1)"
      ]
    },
    {
      "cell_type": "code",
      "execution_count": null,
      "metadata": {
        "id": "2MVv8Acv2SFJ"
      },
      "outputs": [],
      "source": [
        "#df_train = df_train.to_frame(name='text')\n",
        "#df_val = df_val.to_frame(name='text')\n",
        "\n",
        "df_train = df_train_clean['text']\n",
        "y_train = df_train_result['target']"
      ]
    },
    {
      "cell_type": "code",
      "execution_count": null,
      "metadata": {
        "id": "DXrWz6r80ig2"
      },
      "outputs": [],
      "source": [
        "#X_train = tokenizer.texts_to_sequences(df_train['text'].values)\n",
        "X_train = tokenizer.texts_to_sequences(df_train.values)\n",
        "X_train = pad_sequences(X_train)\n",
        "#X_val = tokenizer.texts_to_sequences(df_val['text'].values)\n",
        "#X_val = pad_sequences(X_val)"
      ]
    },
    {
      "cell_type": "code",
      "execution_count": null,
      "metadata": {
        "colab": {
          "base_uri": "https://localhost:8080/"
        },
        "id": "gJjWHm900ikW",
        "outputId": "04076d06-d333-4565-bee6-95708dfeb28d"
      },
      "outputs": [
        {
          "data": {
            "text/plain": [
              "(1040323, 116)"
            ]
          },
          "execution_count": 49,
          "metadata": {},
          "output_type": "execute_result"
        }
      ],
      "source": [
        "#[X_train.shape,X_val.shape] #output : [(936290, 34), (104033, 27)]\n",
        "X_train.shape"
      ]
    },
    {
      "cell_type": "code",
      "execution_count": null,
      "metadata": {
        "colab": {
          "base_uri": "https://localhost:8080/",
          "height": 52
        },
        "id": "Cnf8eJyUpH30",
        "outputId": "4a60e31d-46ff-42dd-df0d-b31311989a0b"
      },
      "outputs": [
        {
          "data": {
            "application/vnd.google.colaboratory.intrinsic+json": {
              "type": "string"
            },
            "text/plain": [
              "'\\nHere, we need to match the X_val (i.e., 27) features to the X_train features \\n(i.e., 34) therefore, we will apply padding of zeros.\\n'"
            ]
          },
          "execution_count": 50,
          "metadata": {},
          "output_type": "execute_result"
        }
      ],
      "source": [
        "\"\"\"\n",
        "Here, we need to match the X_val (i.e., 27) features to the X_train features \n",
        "(i.e., 34) therefore, we will apply padding of zeros.\n",
        "\"\"\"\n",
        "#import numpy as np\n",
        "#X_val = np.lib.pad(X_val, ((0,0),(X_train.shape[1] - X_val.shape[1],0)), 'constant', constant_values=(0))\n",
        "#X_val.shape #output : (104033, 34)"
      ]
    },
    {
      "cell_type": "code",
      "execution_count": null,
      "metadata": {
        "id": "_M4gKhdBp0In"
      },
      "outputs": [],
      "source": [
        "#[X_train.shape,X_val.shape]"
      ]
    },
    {
      "cell_type": "code",
      "execution_count": null,
      "metadata": {
        "colab": {
          "base_uri": "https://localhost:8080/"
        },
        "id": "86xsrZdW3y3X",
        "outputId": "d1cbd8c0-2a0d-487d-8cd0-bee78ed5fe9f"
      },
      "outputs": [
        {
          "data": {
            "text/plain": [
              "(1040323,)"
            ]
          },
          "execution_count": 52,
          "metadata": {},
          "output_type": "execute_result"
        }
      ],
      "source": [
        "#[y_train.shape, y_val.shape]\n",
        "y_train.shape"
      ]
    },
    {
      "cell_type": "code",
      "execution_count": null,
      "metadata": {
        "colab": {
          "base_uri": "https://localhost:8080/"
        },
        "id": "NC1rx_PZ4EaO",
        "outputId": "045eeb01-1062-44b8-cb2c-98e5fc4fb611"
      },
      "outputs": [
        {
          "name": "stdout",
          "output_type": "stream",
          "text": [
            "<class 'pandas.core.frame.DataFrame'>\n"
          ]
        }
      ],
      "source": [
        "y_train = y_train.to_frame(name='target')\n",
        "#y_val = y_val.to_frame(name='target')\n",
        "print(type(y_train))\n",
        "#print(type(y_val))"
      ]
    },
    {
      "cell_type": "code",
      "execution_count": null,
      "metadata": {
        "colab": {
          "base_uri": "https://localhost:8080/"
        },
        "id": "I0vgNnBi0ixL",
        "outputId": "f8f31da8-99e6-46d4-a2fd-d9ea7fce72ee"
      },
      "outputs": [
        {
          "data": {
            "text/plain": [
              "(1040323, 2)"
            ]
          },
          "execution_count": 54,
          "metadata": {},
          "output_type": "execute_result"
        }
      ],
      "source": [
        "Y_train = np.array(pd.get_dummies(y_train)) #inverse is df.idxmax(axis=1)\n",
        "#Y_val = np.array(pd.get_dummies(y_val))\n",
        "Y_train.shape"
      ]
    },
    {
      "cell_type": "code",
      "execution_count": null,
      "metadata": {
        "colab": {
          "base_uri": "https://localhost:8080/",
          "height": 206
        },
        "id": "SCl6tkKV1qMK",
        "outputId": "fb106d6c-877f-45ff-be9a-17c7f5924318"
      },
      "outputs": [
        {
          "data": {
            "text/html": [
              "\n",
              "  <div id=\"df-01873eef-6ffd-4a7e-8dce-f50d8e5ff7f6\">\n",
              "    <div class=\"colab-df-container\">\n",
              "      <div>\n",
              "<style scoped>\n",
              "    .dataframe tbody tr th:only-of-type {\n",
              "        vertical-align: middle;\n",
              "    }\n",
              "\n",
              "    .dataframe tbody tr th {\n",
              "        vertical-align: top;\n",
              "    }\n",
              "\n",
              "    .dataframe thead th {\n",
              "        text-align: right;\n",
              "    }\n",
              "</style>\n",
              "<table border=\"1\" class=\"dataframe\">\n",
              "  <thead>\n",
              "    <tr style=\"text-align: right;\">\n",
              "      <th></th>\n",
              "      <th>id</th>\n",
              "      <th>text</th>\n",
              "      <th>id</th>\n",
              "      <th>target</th>\n",
              "    </tr>\n",
              "  </thead>\n",
              "  <tbody>\n",
              "    <tr>\n",
              "      <th>0</th>\n",
              "      <td>0</td>\n",
              "      <td>Anyway Im getting of for a while</td>\n",
              "      <td>2</td>\n",
              "      <td>2</td>\n",
              "    </tr>\n",
              "    <tr>\n",
              "      <th>1</th>\n",
              "      <td>1</td>\n",
              "      <td>My red, Apache isn't feelin too well this morn...</td>\n",
              "      <td>0</td>\n",
              "      <td>0</td>\n",
              "    </tr>\n",
              "    <tr>\n",
              "      <th>2</th>\n",
              "      <td>2</td>\n",
              "      <td>@danyelljoy you should be  its great. friday w...</td>\n",
              "      <td>2</td>\n",
              "      <td>2</td>\n",
              "    </tr>\n",
              "    <tr>\n",
              "      <th>3</th>\n",
              "      <td>3</td>\n",
              "      <td>its 11:30pm and i dont wanna sleep; so i debat...</td>\n",
              "      <td>2</td>\n",
              "      <td>2</td>\n",
              "    </tr>\n",
              "    <tr>\n",
              "      <th>4</th>\n",
              "      <td>4</td>\n",
              "      <td>Why does twitter eat my DM's?  Not happy</td>\n",
              "      <td>0</td>\n",
              "      <td>0</td>\n",
              "    </tr>\n",
              "  </tbody>\n",
              "</table>\n",
              "</div>\n",
              "      <button class=\"colab-df-convert\" onclick=\"convertToInteractive('df-01873eef-6ffd-4a7e-8dce-f50d8e5ff7f6')\"\n",
              "              title=\"Convert this dataframe to an interactive table.\"\n",
              "              style=\"display:none;\">\n",
              "        \n",
              "  <svg xmlns=\"http://www.w3.org/2000/svg\" height=\"24px\"viewBox=\"0 0 24 24\"\n",
              "       width=\"24px\">\n",
              "    <path d=\"M0 0h24v24H0V0z\" fill=\"none\"/>\n",
              "    <path d=\"M18.56 5.44l.94 2.06.94-2.06 2.06-.94-2.06-.94-.94-2.06-.94 2.06-2.06.94zm-11 1L8.5 8.5l.94-2.06 2.06-.94-2.06-.94L8.5 2.5l-.94 2.06-2.06.94zm10 10l.94 2.06.94-2.06 2.06-.94-2.06-.94-.94-2.06-.94 2.06-2.06.94z\"/><path d=\"M17.41 7.96l-1.37-1.37c-.4-.4-.92-.59-1.43-.59-.52 0-1.04.2-1.43.59L10.3 9.45l-7.72 7.72c-.78.78-.78 2.05 0 2.83L4 21.41c.39.39.9.59 1.41.59.51 0 1.02-.2 1.41-.59l7.78-7.78 2.81-2.81c.8-.78.8-2.07 0-2.86zM5.41 20L4 18.59l7.72-7.72 1.47 1.35L5.41 20z\"/>\n",
              "  </svg>\n",
              "      </button>\n",
              "      \n",
              "  <style>\n",
              "    .colab-df-container {\n",
              "      display:flex;\n",
              "      flex-wrap:wrap;\n",
              "      gap: 12px;\n",
              "    }\n",
              "\n",
              "    .colab-df-convert {\n",
              "      background-color: #E8F0FE;\n",
              "      border: none;\n",
              "      border-radius: 50%;\n",
              "      cursor: pointer;\n",
              "      display: none;\n",
              "      fill: #1967D2;\n",
              "      height: 32px;\n",
              "      padding: 0 0 0 0;\n",
              "      width: 32px;\n",
              "    }\n",
              "\n",
              "    .colab-df-convert:hover {\n",
              "      background-color: #E2EBFA;\n",
              "      box-shadow: 0px 1px 2px rgba(60, 64, 67, 0.3), 0px 1px 3px 1px rgba(60, 64, 67, 0.15);\n",
              "      fill: #174EA6;\n",
              "    }\n",
              "\n",
              "    [theme=dark] .colab-df-convert {\n",
              "      background-color: #3B4455;\n",
              "      fill: #D2E3FC;\n",
              "    }\n",
              "\n",
              "    [theme=dark] .colab-df-convert:hover {\n",
              "      background-color: #434B5C;\n",
              "      box-shadow: 0px 1px 3px 1px rgba(0, 0, 0, 0.15);\n",
              "      filter: drop-shadow(0px 1px 2px rgba(0, 0, 0, 0.3));\n",
              "      fill: #FFFFFF;\n",
              "    }\n",
              "  </style>\n",
              "\n",
              "      <script>\n",
              "        const buttonEl =\n",
              "          document.querySelector('#df-01873eef-6ffd-4a7e-8dce-f50d8e5ff7f6 button.colab-df-convert');\n",
              "        buttonEl.style.display =\n",
              "          google.colab.kernel.accessAllowed ? 'block' : 'none';\n",
              "\n",
              "        async function convertToInteractive(key) {\n",
              "          const element = document.querySelector('#df-01873eef-6ffd-4a7e-8dce-f50d8e5ff7f6');\n",
              "          const dataTable =\n",
              "            await google.colab.kernel.invokeFunction('convertToInteractive',\n",
              "                                                     [key], {});\n",
              "          if (!dataTable) return;\n",
              "\n",
              "          const docLinkHtml = 'Like what you see? Visit the ' +\n",
              "            '<a target=\"_blank\" href=https://colab.research.google.com/notebooks/data_table.ipynb>data table notebook</a>'\n",
              "            + ' to learn more about interactive tables.';\n",
              "          element.innerHTML = '';\n",
              "          dataTable['output_type'] = 'display_data';\n",
              "          await google.colab.output.renderOutput(dataTable, element);\n",
              "          const docLink = document.createElement('div');\n",
              "          docLink.innerHTML = docLinkHtml;\n",
              "          element.appendChild(docLink);\n",
              "        }\n",
              "      </script>\n",
              "    </div>\n",
              "  </div>\n",
              "  "
            ],
            "text/plain": [
              "   id                                               text  id target\n",
              "0   0                  Anyway Im getting of for a while    2      2\n",
              "1   1  My red, Apache isn't feelin too well this morn...   0      0\n",
              "2   2  @danyelljoy you should be  its great. friday w...   2      2\n",
              "3   3  its 11:30pm and i dont wanna sleep; so i debat...   2      2\n",
              "4   4          Why does twitter eat my DM's?  Not happy    0      0"
            ]
          },
          "execution_count": 45,
          "metadata": {},
          "output_type": "execute_result"
        }
      ],
      "source": [
        "pd_concat_df.head()"
      ]
    },
    {
      "cell_type": "markdown",
      "metadata": {
        "id": "IswKCa7_JcvW"
      },
      "source": [
        "###Create model"
      ]
    },
    {
      "cell_type": "code",
      "execution_count": null,
      "metadata": {
        "id": "-OCmFrj90i0y"
      },
      "outputs": [],
      "source": [
        "from tensorflow.keras.models import Sequential\n",
        "from tensorflow.keras.layers import Dense, Embedding, LSTM, SpatialDropout1D"
      ]
    },
    {
      "cell_type": "code",
      "execution_count": null,
      "metadata": {
        "id": "Hifo34uy0i_3"
      },
      "outputs": [],
      "source": [
        "max_features = 10000\n",
        "embed_dim = 256\n",
        "model = Sequential()\n",
        "\"\"\"\n",
        "our LSTM network is creating an embedding layer. An embedding layer allows us to\n",
        " convert each word into a fixed-length vector and that is a better way to \n",
        " represent those words along with reduced dimensions. \n",
        " The max_features parameter is the size of the vocabulary=set on the vocabulary.\n",
        " the embed_dim parameter is the length of the vector.\n",
        " for each word and input_length is the maximum length of a sequence.\n",
        "\"\"\"\n",
        "model.add(Embedding(max_features, embed_dim,input_length = X_train.shape[1]))"
      ]
    },
    {
      "cell_type": "code",
      "execution_count": null,
      "metadata": {
        "id": "iT69qjV054Sq"
      },
      "outputs": [],
      "source": [
        "\"\"\"\n",
        "The main purpose of the spatial dropout layer is to avoid overfitting and that \n",
        "is done by probabilistically removing the inputs of this layer (or the output of \n",
        "the embedding layer in the network we’re building).\n",
        "In the end, the nodes of the network are more robust to the future inputs and \n",
        "tend to not overfit.\n",
        "\"\"\"\n",
        "model.add(SpatialDropout1D(0.2))"
      ]
    },
    {
      "cell_type": "code",
      "execution_count": null,
      "metadata": {
        "colab": {
          "base_uri": "https://localhost:8080/"
        },
        "id": "b41wfuXG54Vk",
        "outputId": "9b032366-2749-4df7-8a2a-bd4137fdb56b"
      },
      "outputs": [
        {
          "name": "stderr",
          "output_type": "stream",
          "text": [
            "WARNING:tensorflow:Layer lstm will not use cuDNN kernels since it doesn't meet the criteria. It will use a generic GPU kernel as fallback when running on GPU.\n"
          ]
        }
      ],
      "source": [
        "\"\"\"\n",
        "The first parameter lstm_out that we’ve defined as 256 it’s the dimensionality \n",
        "of the output space, and we can choose an even larger number trying to improve \n",
        "our model, but that can lead to many problems like overfitting and a long \n",
        "training time.\n",
        "The dropout parameter is applied to the inputs and/or outputs of our model \n",
        "(the linear transformations), while the recurrent dropout is applied to the \n",
        "recurrent state, or cell state, of the model. Recurrent dropout affects the \n",
        "“memory” of the network. The small the dataset is, the small the value of \n",
        "recurrent_dropout.\n",
        "\"\"\"\n",
        "lstm_out = 512\n",
        "model.add(LSTM(lstm_out, dropout=0.2, recurrent_dropout=0.1))"
      ]
    },
    {
      "cell_type": "code",
      "execution_count": null,
      "metadata": {
        "colab": {
          "base_uri": "https://localhost:8080/"
        },
        "id": "-VloIQcx54YI",
        "outputId": "b00bfa15-0be4-4ece-f821-3e487ee6ef8d"
      },
      "outputs": [
        {
          "name": "stdout",
          "output_type": "stream",
          "text": [
            "Model: \"sequential\"\n",
            "_________________________________________________________________\n",
            " Layer (type)                Output Shape              Param #   \n",
            "=================================================================\n",
            " embedding (Embedding)       (None, 116, 256)          2560000   \n",
            "                                                                 \n",
            " spatial_dropout1d (SpatialD  (None, 116, 256)         0         \n",
            " ropout1D)                                                       \n",
            "                                                                 \n",
            " lstm (LSTM)                 (None, 512)               1574912   \n",
            "                                                                 \n",
            " dense (Dense)               (None, 2)                 1026      \n",
            "                                                                 \n",
            "=================================================================\n",
            "Total params: 4,135,938\n",
            "Trainable params: 4,135,938\n",
            "Non-trainable params: 0\n",
            "_________________________________________________________________\n",
            "None\n"
          ]
        }
      ],
      "source": [
        "model.add(Dense(2,activation='sigmoid'))\n",
        "\"\"\"\n",
        "An implementation of the Adam algorithm, which is a robust extended version of \n",
        "the stochastic gradient descent.\n",
        "\"\"\"\n",
        "model.compile(loss = 'categorical_crossentropy', optimizer='adam',metrics = ['accuracy'])\n",
        "print(model.summary())"
      ]
    },
    {
      "cell_type": "markdown",
      "metadata": {
        "id": "Fsf4ASTTI3Ni"
      },
      "source": [
        "###Training, save model, prediction and output file"
      ]
    },
    {
      "cell_type": "code",
      "execution_count": null,
      "metadata": {
        "colab": {
          "base_uri": "https://localhost:8080/"
        },
        "id": "zHAwVjev54ae",
        "outputId": "7f1a63c8-87d1-4253-9b1d-a62ce6835fd4"
      },
      "outputs": [
        {
          "name": "stdout",
          "output_type": "stream",
          "text": [
            "16256/16256 - 6803s - loss: 0.3376 - accuracy: 0.8513 - 6803s/epoch - 419ms/step\n"
          ]
        },
        {
          "data": {
            "text/plain": [
              "<keras.callbacks.History at 0x7f7be93a5850>"
            ]
          },
          "execution_count": 77,
          "metadata": {},
          "output_type": "execute_result"
        }
      ],
      "source": [
        "\"\"\"\n",
        "The batch size is the number of samples to run through the network before a \n",
        "weight update is performed (an epoch), we’ll keep it low as it requires less \n",
        "memory.\n",
        "\"\"\"\n",
        "batch_size = 64\n",
        "model.fit(X_train, Y_train, epochs = 1, batch_size=batch_size, verbose = 2, shuffle=True)"
      ]
    },
    {
      "cell_type": "code",
      "execution_count": null,
      "metadata": {
        "id": "ykZDFrpgnBaA"
      },
      "outputs": [],
      "source": [
        "filename = 'gdrive/MyDrive/neural_network_lstm.h5'\n",
        "model.save(filename)"
      ]
    },
    {
      "cell_type": "code",
      "execution_count": null,
      "metadata": {
        "colab": {
          "base_uri": "https://localhost:8080/"
        },
        "id": "75UbBMLBayyk",
        "outputId": "668a5f7d-91c1-43a8-8656-0151fad0e715"
      },
      "outputs": [
        {
          "name": "stderr",
          "output_type": "stream",
          "text": [
            "WARNING:tensorflow:Layer lstm_1 will not use cuDNN kernels since it doesn't meet the criteria. It will use a generic GPU kernel as fallback when running on GPU.\n"
          ]
        }
      ],
      "source": [
        "from tensorflow import keras\n",
        "filename = 'gdrive/MyDrive/neural_network_lstm.h5'\n",
        "model = keras.models.load_model(filename)"
      ]
    },
    {
      "cell_type": "code",
      "execution_count": null,
      "metadata": {
        "colab": {
          "base_uri": "https://localhost:8080/"
        },
        "id": "lbf1-JdQe-8H",
        "outputId": "7fb3981d-dffb-4b8f-ad2e-c1df82048c7a"
      },
      "outputs": [
        {
          "data": {
            "text/plain": [
              "0    so cut... missed out on all the tce extreme me...\n",
              "1       thank you very much wasin  this is awesome lol\n",
              "2    squeezing in some internet time before dustin ...\n",
              "3    @fanoou; oh i do have moral but i'm gonna be b...\n",
              "4    @nsuissa   i just bought sammy some joint/hip ...\n",
              "Name: text, dtype: object"
            ]
          },
          "execution_count": 80,
          "metadata": {},
          "output_type": "execute_result"
        }
      ],
      "source": [
        "df_test_clean = df_test.copy()\n",
        "# Converting all the upper case to lower case to avoid the distinction between them\n",
        "#df_test_clean['text'] = df_test_clean.text.str.lower()\n",
        "df_test_clean = df_test_clean.str.lower()\n",
        "\n",
        "# Putting the regex for removing the https and www URLs\n",
        "#df_test_clean.text = df_test_clean.text.apply(lambda x: re.sub(r'https?:\\/\\/\\S+', '', x))\n",
        "#df_test_clean.text = df_test_clean.text.apply(lambda x: re.sub(r\"www\\.[a-z]?\\.?(com)+|[a-z]+\\.(com)\", '', x))\n",
        "# Remove the video and links\n",
        "#df_test_clean.text = df_test_clean.text.apply(lambda x: re.sub(r'{link}', '', x))\n",
        "#df_test_clean.text = df_test_clean.text.apply(lambda x: re.sub(r\"\\[video\\]\", '', x))\n",
        "# Remove html reference characters\n",
        "#df_test_clean.text = df_test_clean.text.apply(lambda x: re.sub(r'&[a-z]+;', '', x))\n",
        "# Remove usernames\n",
        "#df_test_clean.text = df_test_clean.text.apply(lambda x: re.sub(r'@[^\\s]+', '', x))\n",
        "# Removing numbers\n",
        "#df_test_clean.text = df_test_clean.text.apply(lambda x: re.sub(r'\\d+', '', x))\n",
        "# Removing hashmarks, non-letter characters\n",
        "#df_test_clean.text = df_test_clean.text.apply(lambda x: re.sub(r\"[^a-z\\s\\(\\-:\\)\\\\\\/\\];='#]\", '', x))\n",
        "# Remove punctuation and numbers\n",
        "#def remove_punct(text):\n",
        "#    text  = \"\".join([char for char in text if char not in string.punctuation])\n",
        "#    text = re.sub('[0-9]+', '', text)\n",
        "#    return text\n",
        "\n",
        "#df_test_clean['text'] = df_test_clean['text'].apply(lambda x: remove_punct(x))\n",
        "# Remove stop words\n",
        "#stopword_list = stopwords.words('english')\n",
        "#df_test_clean['text'] = df_test_clean['text'].apply(lambda x: ' '.join([word for word in x.split() if word not in (stopword_list)]))\n",
        "#df_test_clean_before_stemmer = df_test_clean.copy()\n",
        "#df_test_clean = df_test_clean_before_stemmer.copy()\n",
        "# Snowball Stemmer is also known as the Porter2 stemming algorithm because it is a better version of the Porter Stemmer. It is more aggressive than Porter Stemmer.\n",
        "#from nltk.stem.snowball import SnowballStemmer\n",
        "#snowBallStemmer = SnowballStemmer(\"english\")\n",
        "#def stemming(text):\n",
        "#    text = [snowBallStemmer.stem(word) for word in text.split()]\n",
        "#    return ' '.join(text)\n",
        "\n",
        "#df_test_clean['text'] = df_test_clean['text'].apply(lambda x: stemming(x))\n",
        "df_test_clean.head()"
      ]
    },
    {
      "cell_type": "code",
      "execution_count": null,
      "metadata": {
        "colab": {
          "base_uri": "https://localhost:8080/"
        },
        "id": "x9eH5SKLfgTX",
        "outputId": "53172d0a-bbfb-41fc-8b7f-1675a90a60ad"
      },
      "outputs": [
        {
          "data": {
            "text/plain": [
              "(560175, 40)"
            ]
          },
          "execution_count": 81,
          "metadata": {},
          "output_type": "execute_result"
        }
      ],
      "source": [
        "df_test = df_test_clean#df_test_clean['text']\n",
        "X_test = tokenizer.texts_to_sequences(df_test.values)\n",
        "X_test = pad_sequences(X_test)\n",
        "X_test.shape"
      ]
    },
    {
      "cell_type": "code",
      "execution_count": null,
      "metadata": {
        "colab": {
          "base_uri": "https://localhost:8080/"
        },
        "id": "JIDwBPK0fvSX",
        "outputId": "cc91fef5-c0cf-4a53-b343-485cec2c23dd"
      },
      "outputs": [
        {
          "data": {
            "text/plain": [
              "(560175, 116)"
            ]
          },
          "execution_count": 82,
          "metadata": {},
          "output_type": "execute_result"
        }
      ],
      "source": [
        "import numpy as np\n",
        "X_test = np.lib.pad(X_test, ((0,0),(X_train.shape[1] - X_test.shape[1],0)), 'constant', constant_values=(0))\n",
        "X_test.shape "
      ]
    },
    {
      "cell_type": "code",
      "execution_count": null,
      "metadata": {
        "colab": {
          "base_uri": "https://localhost:8080/"
        },
        "id": "kLEdoT3M54ii",
        "outputId": "131e0f95-896b-4132-9b19-71d2696da090"
      },
      "outputs": [
        {
          "name": "stdout",
          "output_type": "stream",
          "text": [
            "17506/17506 [==============================] - 737s 42ms/step\n"
          ]
        }
      ],
      "source": [
        "y_predicted = model.predict(X_test)"
      ]
    },
    {
      "cell_type": "code",
      "execution_count": null,
      "metadata": {
        "colab": {
          "base_uri": "https://localhost:8080/"
        },
        "id": "EgptKD2zixu8",
        "outputId": "665d7c0b-c81f-430c-8f20-db773c1cf8af"
      },
      "outputs": [
        {
          "name": "stdout",
          "output_type": "stream",
          "text": [
            "[[     0      0]\n",
            " [     1      2]\n",
            " [     2      0]\n",
            " ...\n",
            " [560172      0]\n",
            " [560173      0]\n",
            " [560174      2]]\n"
          ]
        }
      ],
      "source": [
        "# https://datascience.stackexchange.com/questions/79761/class-label-prediction-in-keras-sequential-model-showing-different-results-in-co\n",
        "# https://stackoverflow.com/questions/68776790/model-predict-classes-is-deprecated-what-to-use-instead\n",
        "# evidently the decided label should be the output neuron with the highest probability.\n",
        "# https://datascience.stackexchange.com/questions/36238/what-does-the-output-of-model-predict-function-from-keras-mean\n",
        "pred = np.argmax(y_predicted, axis=1)*2\n",
        "\n",
        "PrepareKaggleFile(test_inputs, pred, file='gdrive/MyDrive/test_label_nn_lstm.csv')"
      ]
    },
    {
      "cell_type": "markdown",
      "metadata": {
        "id": "AkXUTetHJLu4"
      },
      "source": [
        "###Confusion matrix"
      ]
    },
    {
      "cell_type": "code",
      "execution_count": null,
      "metadata": {
        "id": "Ez8Kw3cn54c1"
      },
      "outputs": [],
      "source": [
        "# Predictions\n",
        "import matplotlib.pyplot as plt\n",
        "import seaborn as sns\n",
        "from sklearn.metrics import confusion_matrix\n",
        "\n",
        "def evaluate_lstm(model, X_test,Y_test):\n",
        "  pos_cnt, neg_cnt, pos_correct, neg_correct = 0, 0, 0, 0\n",
        "  results = []\n",
        "  for x in range(len(X_test)):\n",
        "    result = model.predict(X_test[x].reshape(1,X_test.shape[1]),\n",
        "                           batch_size=1,verbose = 3)[0]\n",
        "    if np.argmax(result) == np.argmax(X_test[x]):\n",
        "      if np.argmax(X_test[x]) == 0:\n",
        "        neg_correct += 1\n",
        "      else:\n",
        "        pos_correct += 1\n",
        "    if np.argmax(X_test[x]) == 0:\n",
        "      neg_cnt += 1\n",
        "    else:\n",
        "      pos_cnt += 1\n",
        "    results.append(np.argmax(result))\n",
        "  Y_test_argmax = np.argmax(Y_test,axis=1)\n",
        "  Y_test_argmax  = Y_test_argmax.reshape(-1,1)\n",
        "  results = np.asarray(results)\n",
        "  results = results.reshape(-1,1)\n",
        "  conf_matrix = confusion_matrix(Y_test_argmax, results)\n",
        "  fig = plt.figure(figsize=(6, 6))\n",
        "  sns.heatmap(conf_matrix, annot=True, fmt=\"d\", cmap = 'GnBu');\n",
        "  plt.title(\"Confusion Matrix\")\n",
        "  plt.ylabel('Correct Class')\n",
        "  plt.xlabel('Predicted class')"
      ]
    },
    {
      "cell_type": "code",
      "execution_count": null,
      "metadata": {
        "id": "DMpDbEoJ54fJ"
      },
      "outputs": [],
      "source": [
        "accuracy,f1, fig = evaluate_lstm(model,X_train,Y_train)\n",
        "print(f'Accuracy:{accuracy:.3f}')\n",
        "print(f'F1 Score: {f1:.3f}')"
      ]
    }
  ],
  "metadata": {
    "accelerator": "GPU",
    "colab": {
      "collapsed_sections": [
        "TuU-tw12LPa2",
        "IswKCa7_JcvW",
        "Fsf4ASTTI3Ni",
        "AkXUTetHJLu4"
      ],
      "machine_shape": "hm",
      "provenance": [],
      "toc_visible": true
    },
    "gpuClass": "standard",
    "kernelspec": {
      "display_name": "Python 3.9.7 64-bit",
      "language": "python",
      "name": "python3"
    },
    "language_info": {
      "name": "python",
      "version": "3.9.7"
    },
    "vscode": {
      "interpreter": {
        "hash": "05d8f42d34e97b63e1918e352e5e1ee86173089fb3b8c3e567ea1c06d83cd6aa"
      }
    }
  },
  "nbformat": 4,
  "nbformat_minor": 0
}
