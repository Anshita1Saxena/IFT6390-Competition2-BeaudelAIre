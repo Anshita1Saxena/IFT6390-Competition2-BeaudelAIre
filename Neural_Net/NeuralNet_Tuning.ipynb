{
 "cells": [
  {
   "cell_type": "markdown",
   "metadata": {},
   "source": [
    "# Neural Net\n",
    "\n",
    "We will train a neural network to do sentiment analysis. We will test which hyper-parameters and which encoding gives us the best results."
   ]
  },
  {
   "cell_type": "code",
   "execution_count": 49,
   "metadata": {},
   "outputs": [],
   "source": [
    "import pandas as pd\n",
    "import numpy as np\n",
    "import re\n",
    "from gensim.models import Word2Vec\n",
    "from sklearn.model_selection import train_test_split\n",
    "import tensorflow as tf\n",
    "from tensorflow import keras\n",
    "from keras import Sequential\n",
    "from keras.layers import Dense\n",
    "from keras.layers import Dropout\n",
    "import seaborn as sns\n",
    "import matplotlib.pyplot as plt\n",
    "%matplotlib inline\n",
    "import gc\n",
    "from sklearn.metrics import confusion_matrix"
   ]
  },
  {
   "cell_type": "markdown",
   "metadata": {},
   "source": [
    "## Preprocessing Data"
   ]
  },
  {
   "cell_type": "code",
   "execution_count": 2,
   "metadata": {},
   "outputs": [],
   "source": [
    "#Import the data\n",
    "df_train = pd.read_csv('../kaggle-competition-2/train_data.csv')\n",
    "df_test = pd.read_csv('../kaggle-competition-2/test_data.csv')\n",
    "df_train_labels = pd.read_csv('../kaggle-competition-2/train_results.csv')"
   ]
  },
  {
   "cell_type": "code",
   "execution_count": 3,
   "metadata": {},
   "outputs": [
    {
     "name": "stdout",
     "output_type": "stream",
     "text": [
      "0.008074415349848076%\n"
     ]
    }
   ],
   "source": [
    "#We want to remove neutral class since there are very few of them and then we can have a binary classification model\n",
    "print(str(len(df_train_labels.loc[df_train_labels['target']=='neutral','target'])/len(df_train_labels)*100)+'%')\n",
    "df_train_labels = df_train_labels[df_train_labels['target']!='neutral']\n",
    "df_train = df_train.iloc[df_train_labels.index,:]"
   ]
  },
  {
   "cell_type": "code",
   "execution_count": 4,
   "metadata": {},
   "outputs": [],
   "source": [
    "#Rename the labels\n",
    "df_train_labels.loc[df_train_labels['target']=='negative','target'] = 0\n",
    "df_train_labels.loc[df_train_labels['target']=='positive','target'] = 1"
   ]
  },
  {
   "cell_type": "code",
   "execution_count": 5,
   "metadata": {},
   "outputs": [],
   "source": [
    "def preprocessing(df):\n",
    "    sentences = df.copy()\n",
    "    # Converting all the upper case to lower case to avoid the distinction between them\n",
    "    sentences['text'] = df['text'].str.lower()\n",
    "    # Putting the regex for removing the https and www URLs\n",
    "    sentences['text'] = sentences['text'].apply(lambda x: re.sub(r'https?:\\/\\/\\S+', '', x))\n",
    "    sentences['text'] = sentences['text'].apply(lambda x: re.sub(r\"www\\.[a-z]?\\.?(com)+|[a-z]+\\.(com)\", '', x))\n",
    "\n",
    "    # Remove the video and links\n",
    "    sentences['text'] = sentences['text'].apply(lambda x: re.sub(r'{link}', '', x))\n",
    "    sentences['text'] = sentences['text'].apply(lambda x: re.sub(r\"\\[video\\]\", '', x))\n",
    "\n",
    "    # Remove html reference characters\n",
    "    sentences['text'] = sentences['text'].apply(lambda x: re.sub(r'&[a-z]+;', '', x))\n",
    "\n",
    "    # Remove usernames\n",
    "    sentences['text'] = sentences['text'].apply(lambda x: re.sub(r'@[^\\s]+', '', x))\n",
    "\n",
    "    # Removing numbers\n",
    "    sentences['text'] = sentences['text'].apply(lambda x: re.sub(r'\\d+', '', x))\n",
    "\n",
    "    # Removing hashmarks, non-letter characters\n",
    "    sentences['text'] = sentences['text'].apply(lambda x: re.sub(r\"[^a-z\\s\\(\\-:\\)\\\\\\/\\];='#]\", '', x))\n",
    "\n",
    "    # Removing all extra same letters to a limit of 2, ex. daaaang => daang, nooooooo => noo\n",
    "    sentences['text'] = sentences['text'].apply(lambda x: re.sub(r\"(.)\\1+\", r\"\\1\\1\", x))\n",
    "        \n",
    "    return sentences"
   ]
  },
  {
   "cell_type": "code",
   "execution_count": 6,
   "metadata": {},
   "outputs": [],
   "source": [
    "#Preprocess the senteces \n",
    "train_proc = preprocessing(df_train)\n",
    "test_proc = preprocessing(df_test)\n",
    "train_proc['text'] = train_proc['text'].apply(lambda x: x.split(' '))\n",
    "test_proc['text'] = test_proc['text'].apply(lambda x: x.split(' '))"
   ]
  },
  {
   "cell_type": "code",
   "execution_count": 7,
   "metadata": {},
   "outputs": [
    {
     "name": "stdout",
     "output_type": "stream",
     "text": [
      "62\n",
      "2\n"
     ]
    }
   ],
   "source": [
    "#Get the minium and maximum number of words for each text\n",
    "print(max(max(train_proc['text'].apply(lambda x: len(x))),max(test_proc['text'].apply(lambda x: len(x)))))\n",
    "print(min(min(train_proc['text'].apply(lambda x: len(x))),min(test_proc['text'].apply(lambda x: len(x)))))"
   ]
  },
  {
   "cell_type": "code",
   "execution_count": 8,
   "metadata": {},
   "outputs": [],
   "source": [
    "#Load the encoders\n",
    "word2vec_CBOW_100d = Word2Vec.load('../Encoders/word2vec_CBOW_100d')\n",
    "word2vec_SkipGram_100d = Word2Vec.load('../Encoders/word2vec_SkipGram_100d')"
   ]
  },
  {
   "cell_type": "code",
   "execution_count": 9,
   "metadata": {},
   "outputs": [],
   "source": [
    "#Functions to apply the word2vec encodinng to each word\n",
    "def applyWord2VecCBOW_AVG(listWords):\n",
    "    newList = []\n",
    "    for i in listWords:\n",
    "        if i in word2vec_CBOW_100d.wv:\n",
    "            newList.append(word2vec_CBOW_100d.wv[i])\n",
    "    return np.mean(newList,axis=0)\n",
    "\n",
    "def applyWord2VecSG_AVG(listWords):\n",
    "    newList = []\n",
    "    for i in listWords:\n",
    "        if i in word2vec_SkipGram_100d.wv:\n",
    "            newList.append(word2vec_SkipGram_100d.wv[i])\n",
    "    return np.mean(newList,axis=0)\n"
   ]
  },
  {
   "cell_type": "code",
   "execution_count": 10,
   "metadata": {},
   "outputs": [],
   "source": [
    "#Create all datasets with different encodings\n",
    "CBOW_Train_AVG = train_proc['text'].apply(applyWord2VecCBOW_AVG)\n",
    "SG_Train_AVG = train_proc['text'].apply(applyWord2VecSG_AVG)\n",
    "\n",
    "CBOW_Test_AVG = test_proc['text'].apply(applyWord2VecCBOW_AVG)\n",
    "SG_Test_AVG = test_proc['text'].apply(applyWord2VecSG_AVG)"
   ]
  },
  {
   "cell_type": "code",
   "execution_count": 11,
   "metadata": {},
   "outputs": [],
   "source": [
    "#Transform the data into a matrix\n",
    "CBOW_Train_AVG_X = pd.DataFrame(CBOW_Train_AVG.tolist(), index= CBOW_Train_AVG.index)\n",
    "SG_Train_AVG_X = pd.DataFrame(SG_Train_AVG.tolist(), index= CBOW_Train_AVG.index)\n",
    "CBOW_Test_AVG_X = pd.DataFrame(CBOW_Test_AVG.tolist(), index= CBOW_Test_AVG.index)\n",
    "SG_Test_AVG_X = pd.DataFrame(SG_Test_AVG.tolist(), index= CBOW_Test_AVG.index)"
   ]
  },
  {
   "cell_type": "code",
   "execution_count": 12,
   "metadata": {},
   "outputs": [],
   "source": [
    "#Split the data into training and validation 70-30\n",
    "CBOW_train_x, CBOW_valid_x, CBOW_train_y, CBOW_valid_y = train_test_split(CBOW_Train_AVG_X, df_train_labels, test_size=0.1, random_state=1) \n",
    "SG_train_x, SG_valid_x, SG_train_y, SG_valid_y = train_test_split(SG_Train_AVG_X, df_train_labels, test_size=0.1, random_state=1) "
   ]
  },
  {
   "cell_type": "code",
   "execution_count": 13,
   "metadata": {},
   "outputs": [
    {
     "data": {
      "text/plain": [
       "42"
      ]
     },
     "execution_count": 13,
     "metadata": {},
     "output_type": "execute_result"
    }
   ],
   "source": [
    "#Delete variables to clear space\n",
    "del CBOW_Train_AVG, CBOW_Train_AVG_X, CBOW_Test_AVG, df_test, df_train, df_train_labels\n",
    "del SG_Train_AVG, SG_Train_AVG_X, SG_Test_AVG, test_proc, train_proc, word2vec_CBOW_100d, word2vec_SkipGram_100d\n",
    "gc.collect()"
   ]
  },
  {
   "cell_type": "code",
   "execution_count": 25,
   "metadata": {},
   "outputs": [],
   "source": [
    "#Make sure all the data is numerical before training\n",
    "CBOW_train_x = CBOW_train_x.apply(pd.to_numeric)\n",
    "SG_train_x = SG_train_x.apply(pd.to_numeric)\n",
    "CBOW_valid_x = CBOW_valid_x.apply(pd.to_numeric)\n",
    "SG_valid_x = SG_valid_x.apply(pd.to_numeric)\n",
    "\n",
    "CBOW_train_y = CBOW_train_y.apply(pd.to_numeric)\n",
    "SG_train_y = SG_train_y.apply(pd.to_numeric)\n",
    "CBOW_valid_y = CBOW_valid_y.apply(pd.to_numeric)\n",
    "SG_valid_y = SG_valid_y.apply(pd.to_numeric)"
   ]
  },
  {
   "cell_type": "code",
   "execution_count": 58,
   "metadata": {},
   "outputs": [],
   "source": [
    "#Build the neural network architecture\n",
    "model_CBOW = Sequential()\n",
    "model_CBOW.add(Dense(512, activation='relu', input_dim=100))\n",
    "model_CBOW.add(Dense(256, activation='relu'))\n",
    "model_CBOW.add(Dense(1, activation='sigmoid'))\n",
    "model_CBOW.compile(optimizer='adam', loss='binary_crossentropy', metrics=['accuracy'])"
   ]
  },
  {
   "cell_type": "code",
   "execution_count": 59,
   "metadata": {},
   "outputs": [
    {
     "name": "stdout",
     "output_type": "stream",
     "text": [
      "Epoch 1/10\n",
      "7282/7282 [==============================] - 74s 10ms/step - loss: 0.4644 - accuracy: 0.7781 - val_loss: 0.4490 - val_accuracy: 0.7868\n",
      "Epoch 2/10\n",
      "7282/7282 [==============================] - 80s 11ms/step - loss: 0.4478 - accuracy: 0.7873 - val_loss: 0.4458 - val_accuracy: 0.7886\n",
      "Epoch 3/10\n",
      "7282/7282 [==============================] - 81s 11ms/step - loss: 0.4403 - accuracy: 0.7919 - val_loss: 0.4407 - val_accuracy: 0.7923\n",
      "Epoch 4/10\n",
      "7282/7282 [==============================] - 89s 12ms/step - loss: 0.4343 - accuracy: 0.7949 - val_loss: 0.4373 - val_accuracy: 0.7942\n",
      "Epoch 5/10\n",
      "7282/7282 [==============================] - 97s 13ms/step - loss: 0.4291 - accuracy: 0.7975 - val_loss: 0.4384 - val_accuracy: 0.7936\n",
      "Epoch 6/10\n",
      "7282/7282 [==============================] - 89s 12ms/step - loss: 0.4244 - accuracy: 0.8003 - val_loss: 0.4375 - val_accuracy: 0.7942\n",
      "Epoch 7/10\n",
      "7282/7282 [==============================] - 97s 13ms/step - loss: 0.4197 - accuracy: 0.8029 - val_loss: 0.4389 - val_accuracy: 0.7941\n",
      "Epoch 8/10\n",
      "7282/7282 [==============================] - 94s 13ms/step - loss: 0.4147 - accuracy: 0.8051 - val_loss: 0.4381 - val_accuracy: 0.7938\n",
      "Epoch 9/10\n",
      "7282/7282 [==============================] - 90s 12ms/step - loss: 0.4101 - accuracy: 0.8070 - val_loss: 0.4404 - val_accuracy: 0.7947\n",
      "Epoch 10/10\n",
      "7282/7282 [==============================] - 85s 12ms/step - loss: 0.4053 - accuracy: 0.8101 - val_loss: 0.4424 - val_accuracy: 0.7939\n"
     ]
    }
   ],
   "source": [
    "#Fit the model to CBOW encoding\n",
    "hist_CBOW = model_CBOW.fit(CBOW_train_x, CBOW_train_y['target'], validation_data=(CBOW_valid_x, CBOW_valid_y['target']), epochs=10, batch_size=100)"
   ]
  },
  {
   "cell_type": "code",
   "execution_count": null,
   "metadata": {},
   "outputs": [],
   "source": [
    "#Build the neural network architecture\n",
    "model_SG = Sequential()\n",
    "model_SG.add(Dense(512, activation='relu', input_dim=100))\n",
    "model_SG.add(Dense(256, activation='relu'))\n",
    "model_SG.add(Dense(1, activation='sigmoid'))\n",
    "model_SG.compile(optimizer='adam', loss='binary_crossentropy', metrics=['accuracy'])"
   ]
  },
  {
   "cell_type": "code",
   "execution_count": 60,
   "metadata": {},
   "outputs": [
    {
     "name": "stdout",
     "output_type": "stream",
     "text": [
      "Epoch 1/10\n",
      "7282/7282 [==============================] - 63s 9ms/step - loss: 0.4632 - accuracy: 0.7781 - val_loss: 0.4487 - val_accuracy: 0.7880\n",
      "Epoch 2/10\n",
      "7282/7282 [==============================] - 84s 12ms/step - loss: 0.4455 - accuracy: 0.7891 - val_loss: 0.4398 - val_accuracy: 0.7921\n",
      "Epoch 3/10\n",
      "7282/7282 [==============================] - 75s 10ms/step - loss: 0.4376 - accuracy: 0.7932 - val_loss: 0.4371 - val_accuracy: 0.7937\n",
      "Epoch 4/10\n",
      "7282/7282 [==============================] - 86s 12ms/step - loss: 0.4319 - accuracy: 0.7966 - val_loss: 0.4348 - val_accuracy: 0.7952\n",
      "Epoch 5/10\n",
      "7282/7282 [==============================] - 667s 92ms/step - loss: 0.4273 - accuracy: 0.7986 - val_loss: 0.4323 - val_accuracy: 0.7967\n",
      "Epoch 6/10\n",
      "7282/7282 [==============================] - 62s 8ms/step - loss: 0.4233 - accuracy: 0.8011 - val_loss: 0.4318 - val_accuracy: 0.7968\n",
      "Epoch 7/10\n",
      "7282/7282 [==============================] - 57s 8ms/step - loss: 0.4194 - accuracy: 0.8029 - val_loss: 0.4328 - val_accuracy: 0.7960\n",
      "Epoch 8/10\n",
      "7282/7282 [==============================] - 80s 11ms/step - loss: 0.4158 - accuracy: 0.8047 - val_loss: 0.4321 - val_accuracy: 0.7981\n",
      "Epoch 9/10\n",
      "7282/7282 [==============================] - 75s 10ms/step - loss: 0.4122 - accuracy: 0.8068 - val_loss: 0.4339 - val_accuracy: 0.7974\n",
      "Epoch 10/10\n",
      "7282/7282 [==============================] - 92s 13ms/step - loss: 0.4087 - accuracy: 0.8083 - val_loss: 0.4313 - val_accuracy: 0.7989\n"
     ]
    }
   ],
   "source": [
    "#Fit the model to SG encoding\n",
    "hist_SG = model_SG.fit(SG_train_x, SG_train_y['target'], validation_data=(SG_valid_x, SG_valid_y['target']), epochs=10, batch_size=100)"
   ]
  },
  {
   "cell_type": "code",
   "execution_count": 61,
   "metadata": {},
   "outputs": [
    {
     "data": {
      "text/plain": [
       "[]"
      ]
     },
     "execution_count": 61,
     "metadata": {},
     "output_type": "execute_result"
    },
    {
     "data": {
      "image/png": "[encoded data removed]",
      "text/plain": [
       "<Figure size 640x480 with 1 Axes>"
      ]
     },
     "metadata": {},
     "output_type": "display_data"
    }
   ],
   "source": [
    "#Plot accuracy for both models and compare\n",
    "sns.set()\n",
    "acc_CBOW = hist_CBOW.history['accuracy']\n",
    "val_CBOW = hist_CBOW.history['val_accuracy']\n",
    "acc_SG = hist_SG.history['accuracy']\n",
    "val_SG = hist_SG.history['val_accuracy']\n",
    "epochs = range(1, len(acc_CBOW) + 1)\n",
    "\n",
    "plt.plot(epochs, acc_CBOW, '-', color='blue',label='CBOW Training accuracy')\n",
    "plt.plot(epochs, val_CBOW, ':', color='blue', label='CBOW Validation accuracy')\n",
    "plt.plot(epochs, acc_SG, '-', color='red', label='SG Training accuracy')\n",
    "plt.plot(epochs, val_SG, ':', color='red', label='SG Validation accuracy')\n",
    "plt.title('Training and Validation Accuracy Comparison')\n",
    "plt.xlabel('Epoch')\n",
    "plt.ylabel('Accuracy')\n",
    "plt.legend(loc='lower right')\n",
    "plt.plot()"
   ]
  },
  {
   "cell_type": "code",
   "execution_count": 63,
   "metadata": {},
   "outputs": [],
   "source": [
    "#We can see overfitting let us add some dropout to prevent it\n",
    "model_drp_CBOW = Sequential()\n",
    "model_drp_CBOW.add(Dense(512, activation='relu', input_dim=100))\n",
    "model_drp_CBOW.add(Dropout(0.25))\n",
    "model_drp_CBOW.add(Dense(256, activation='relu'))\n",
    "model_drp_CBOW.add(Dense(1, activation='sigmoid'))\n",
    "model_drp_CBOW.compile(optimizer='adam', loss='binary_crossentropy', metrics=['accuracy'])"
   ]
  },
  {
   "cell_type": "code",
   "execution_count": 51,
   "metadata": {},
   "outputs": [
    {
     "name": "stdout",
     "output_type": "stream",
     "text": [
      "Epoch 1/10\n",
      "7282/7282 [==============================] - 92s 13ms/step - loss: 0.4780 - accuracy: 0.7697 - val_loss: 0.4566 - val_accuracy: 0.7821\n",
      "Epoch 2/10\n",
      "7282/7282 [==============================] - 142s 19ms/step - loss: 0.4634 - accuracy: 0.7790 - val_loss: 0.4549 - val_accuracy: 0.7861\n",
      "Epoch 3/10\n",
      "7282/7282 [==============================] - 188s 26ms/step - loss: 0.4585 - accuracy: 0.7817 - val_loss: 0.4498 - val_accuracy: 0.7876\n",
      "Epoch 4/10\n",
      "7282/7282 [==============================] - 211s 29ms/step - loss: 0.4552 - accuracy: 0.7838 - val_loss: 0.4469 - val_accuracy: 0.7893\n",
      "Epoch 5/10\n",
      "7282/7282 [==============================] - 104s 14ms/step - loss: 0.4527 - accuracy: 0.7853 - val_loss: 0.4456 - val_accuracy: 0.7908\n",
      "Epoch 6/10\n",
      "7282/7282 [==============================] - 128s 18ms/step - loss: 0.4501 - accuracy: 0.7868 - val_loss: 0.4444 - val_accuracy: 0.7919\n",
      "Epoch 7/10\n",
      "7282/7282 [==============================] - 131s 18ms/step - loss: 0.4488 - accuracy: 0.7878 - val_loss: 0.4444 - val_accuracy: 0.7925\n",
      "Epoch 8/10\n",
      "7282/7282 [==============================] - 130s 18ms/step - loss: 0.4472 - accuracy: 0.7884 - val_loss: 0.4426 - val_accuracy: 0.7910\n",
      "Epoch 9/10\n",
      "7282/7282 [==============================] - 143s 20ms/step - loss: 0.4456 - accuracy: 0.7893 - val_loss: 0.4399 - val_accuracy: 0.7933\n",
      "Epoch 10/10\n",
      "7282/7282 [==============================] - 141s 19ms/step - loss: 0.4446 - accuracy: 0.7898 - val_loss: 0.4418 - val_accuracy: 0.7932\n"
     ]
    }
   ],
   "source": [
    "#Fit the model to CBOW encoding\n",
    "hist_CBOW_drp = model_drp_CBOW.fit(CBOW_train_x, CBOW_train_y['target'], validation_data=(CBOW_valid_x, CBOW_valid_y['target']), epochs=10, batch_size=100)"
   ]
  },
  {
   "cell_type": "code",
   "execution_count": null,
   "metadata": {},
   "outputs": [],
   "source": [
    "#We can see overfitting let us add some dropout to prevent it\n",
    "model_drp_SG = Sequential()\n",
    "model_drp_SG.add(Dense(512, activation='relu', input_dim=100))\n",
    "model_drp_SG.add(Dropout(0.25))\n",
    "model_drp_SG.add(Dense(256, activation='relu'))\n",
    "model_drp_SG.add(Dense(1, activation='sigmoid'))\n",
    "model_drp_SG.compile(optimizer='adam', loss='binary_crossentropy', metrics=['accuracy'])"
   ]
  },
  {
   "cell_type": "code",
   "execution_count": 64,
   "metadata": {},
   "outputs": [
    {
     "name": "stdout",
     "output_type": "stream",
     "text": [
      "Epoch 1/10\n",
      "7282/7282 [==============================] - 80s 11ms/step - loss: 0.4688 - accuracy: 0.7746 - val_loss: 0.4547 - val_accuracy: 0.7837\n",
      "Epoch 2/10\n",
      "7282/7282 [==============================] - 96s 13ms/step - loss: 0.4539 - accuracy: 0.7850 - val_loss: 0.4434 - val_accuracy: 0.7907\n",
      "Epoch 3/10\n",
      "7282/7282 [==============================] - 93s 13ms/step - loss: 0.4479 - accuracy: 0.7881 - val_loss: 0.4404 - val_accuracy: 0.7917\n",
      "Epoch 4/10\n",
      "7282/7282 [==============================] - 98s 13ms/step - loss: 0.4440 - accuracy: 0.7902 - val_loss: 0.4421 - val_accuracy: 0.7915\n",
      "Epoch 5/10\n",
      "7282/7282 [==============================] - 109s 15ms/step - loss: 0.4408 - accuracy: 0.7916 - val_loss: 0.4355 - val_accuracy: 0.7950\n",
      "Epoch 6/10\n",
      "7282/7282 [==============================] - 121s 17ms/step - loss: 0.4384 - accuracy: 0.7928 - val_loss: 0.4350 - val_accuracy: 0.7938\n",
      "Epoch 7/10\n",
      "7282/7282 [==============================] - 117s 16ms/step - loss: 0.4361 - accuracy: 0.7941 - val_loss: 0.4330 - val_accuracy: 0.7956\n",
      "Epoch 8/10\n",
      "7282/7282 [==============================] - 104s 14ms/step - loss: 0.4341 - accuracy: 0.7954 - val_loss: 0.4326 - val_accuracy: 0.7966\n",
      "Epoch 9/10\n",
      "7282/7282 [==============================] - 103s 14ms/step - loss: 0.4322 - accuracy: 0.7965 - val_loss: 0.4324 - val_accuracy: 0.7964\n",
      "Epoch 10/10\n",
      "7282/7282 [==============================] - 119s 16ms/step - loss: 0.4304 - accuracy: 0.7972 - val_loss: 0.4304 - val_accuracy: 0.7980\n"
     ]
    }
   ],
   "source": [
    "#Fit the model to SG encoding\n",
    "hist_SG_drp = model_drp_SG.fit(SG_train_x, SG_train_y['target'], validation_data=(SG_valid_x, SG_valid_y['target']), epochs=10, batch_size=100)"
   ]
  },
  {
   "cell_type": "code",
   "execution_count": null,
   "metadata": {},
   "outputs": [],
   "source": [
    "#Plot accuracy for both models and compare\n",
    "sns.set()\n",
    "acc_CBOW = hist_CBOW_drp.history['accuracy']\n",
    "val_CBOW = hist_CBOW_drp.history['val_accuracy']\n",
    "acc_SG = hist_SG_drp.history['accuracy']\n",
    "val_SG = hist_SG_drp.history['val_accuracy']\n",
    "epochs = range(1, len(acc_CBOW) + 1)\n",
    "\n",
    "plt.plot(epochs, acc_CBOW, '-', color='blue',label='CBOW Training accuracy')\n",
    "plt.plot(epochs, val_CBOW, ':', color='blue', label='CBOW Validation accuracy')\n",
    "plt.plot(epochs, acc_SG, '-', color='red', label='SG Training accuracy')\n",
    "plt.plot(epochs, val_SG, ':', color='red', label='SG Validation accuracy')\n",
    "plt.title('Training and Validation Accuracy Comparison')\n",
    "plt.xlabel('Epoch')\n",
    "plt.ylabel('Accuracy')\n",
    "plt.legend(loc='lower right')\n",
    "plt.plot()"
   ]
  }
 ],
 "metadata": {
  "kernelspec": {
   "display_name": "Python 3.9.7 64-bit",
   "language": "python",
   "name": "python3"
  },
  "language_info": {
   "codemirror_mode": {
    "name": "ipython",
    "version": 3
   },
   "file_extension": ".py",
   "mimetype": "text/x-python",
   "name": "python",
   "nbconvert_exporter": "python",
   "pygments_lexer": "ipython3",
   "version": "3.9.7"
  },
  "orig_nbformat": 4,
  "vscode": {
   "interpreter": {
    "hash": "05d8f42d34e97b63e1918e352e5e1ee86173089fb3b8c3e567ea1c06d83cd6aa"
   }
  }
 },
 "nbformat": 4,
 "nbformat_minor": 2
}
