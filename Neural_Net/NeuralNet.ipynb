{
 "cells": [
  {
   "cell_type": "markdown",
   "metadata": {},
   "source": [
    "# Neural Net\n",
    "\n",
    "We will train a recurrent neural network to do sentiment analysis. We will test which hyper-parameters and which encoding gives us the best results."
   ]
  },
  {
   "cell_type": "code",
   "execution_count": 11,
   "metadata": {},
   "outputs": [],
   "source": [
    "import pandas as pd\n",
    "import numpy as np\n",
    "import re\n",
    "from gensim.models import Word2Vec\n",
    "from sklearn.model_selection import train_test_split"
   ]
  },
  {
   "cell_type": "markdown",
   "metadata": {},
   "source": [
    "## Preprocessing Data"
   ]
  },
  {
   "cell_type": "code",
   "execution_count": 2,
   "metadata": {},
   "outputs": [],
   "source": [
    "#Import the data\n",
    "df_train = pd.read_csv('../kaggle-competition-2/train_data.csv')\n",
    "df_test = pd.read_csv('../kaggle-competition-2/test_data.csv')\n",
    "df_train_labels = pd.read_csv('../kaggle-competition-2/train_results.csv')"
   ]
  },
  {
   "cell_type": "code",
   "execution_count": 3,
   "metadata": {},
   "outputs": [],
   "source": [
    "#Rename the labels\n",
    "df_train_labels.loc[df_train_labels['target']=='negative','target'] = 0\n",
    "df_train_labels.loc[df_train_labels['target']=='positive','target'] = 1\n",
    "df_train_labels.loc[df_train_labels['target']=='neutral','target'] = 2"
   ]
  },
  {
   "cell_type": "code",
   "execution_count": 4,
   "metadata": {},
   "outputs": [],
   "source": [
    "def preprocessing(df):\n",
    "    sentences = df.copy()\n",
    "    # Converting all the upper case to lower case to avoid the distinction between them\n",
    "    sentences['text'] = df['text'].str.lower()\n",
    "    # Putting the regex for removing the https and www URLs\n",
    "    sentences['text'] = sentences['text'].apply(lambda x: re.sub(r'https?:\\/\\/\\S+', '', x))\n",
    "    sentences['text'] = sentences['text'].apply(lambda x: re.sub(r\"www\\.[a-z]?\\.?(com)+|[a-z]+\\.(com)\", '', x))\n",
    "\n",
    "    # Remove the video and links\n",
    "    sentences['text'] = sentences['text'].apply(lambda x: re.sub(r'{link}', '', x))\n",
    "    sentences['text'] = sentences['text'].apply(lambda x: re.sub(r\"\\[video\\]\", '', x))\n",
    "\n",
    "    # Remove html reference characters\n",
    "    sentences['text'] = sentences['text'].apply(lambda x: re.sub(r'&[a-z]+;', '', x))\n",
    "\n",
    "    # Remove usernames\n",
    "    sentences['text'] = sentences['text'].apply(lambda x: re.sub(r'@[^\\s]+', '', x))\n",
    "\n",
    "    # Removing numbers\n",
    "    sentences['text'] = sentences['text'].apply(lambda x: re.sub(r'\\d+', '', x))\n",
    "\n",
    "    # Removing hashmarks, non-letter characters\n",
    "    sentences['text'] = sentences['text'].apply(lambda x: re.sub(r\"[^a-z\\s\\(\\-:\\)\\\\\\/\\];='#]\", '', x))\n",
    "\n",
    "    # Removing all extra same letters to a limit of 2, ex. daaaang => daang, nooooooo => noo\n",
    "    sentences['text'] = sentences['text'].apply(lambda x: re.sub(r\"(.)\\1+\", r\"\\1\\1\", x))\n",
    "        \n",
    "    return sentences"
   ]
  },
  {
   "cell_type": "code",
   "execution_count": 5,
   "metadata": {},
   "outputs": [],
   "source": [
    "#Preprocess the senteces \n",
    "train_proc = preprocessing(df_train)\n",
    "test_proc = preprocessing(df_test)\n",
    "train_proc['text'] = train_proc['text'].apply(lambda x: x.split(' '))\n",
    "test_proc['text'] = test_proc['text'].apply(lambda x: x.split(' '))"
   ]
  },
  {
   "cell_type": "code",
   "execution_count": 6,
   "metadata": {},
   "outputs": [
    {
     "name": "stdout",
     "output_type": "stream",
     "text": [
      "62\n",
      "2\n"
     ]
    }
   ],
   "source": [
    "#Get the minium and maximum number of words for each text\n",
    "print(max(max(train_proc['text'].apply(lambda x: len(x))),max(test_proc['text'].apply(lambda x: len(x)))))\n",
    "print(min(min(train_proc['text'].apply(lambda x: len(x))),min(test_proc['text'].apply(lambda x: len(x)))))"
   ]
  },
  {
   "cell_type": "code",
   "execution_count": 7,
   "metadata": {},
   "outputs": [],
   "source": [
    "#Load the encoders\n",
    "word2vec_CBOW_100d = Word2Vec.load('../Encoders/word2vec_CBOW_100d')\n",
    "word2vec_SkipGram_100d = Word2Vec.load('../Encoders/word2vec_SkipGram_100d')"
   ]
  },
  {
   "cell_type": "code",
   "execution_count": 8,
   "metadata": {},
   "outputs": [],
   "source": [
    "#Functions to apply the word2vec encodinng to each word\n",
    "def applyWord2VecCBOW_AVG(listWords):\n",
    "    newList = []\n",
    "    for i in listWords:\n",
    "        if i in word2vec_CBOW_100d.wv:\n",
    "            newList.append(word2vec_CBOW_100d.wv[i])\n",
    "    return np.mean(newList,axis=0)\n",
    "\n",
    "def applyWord2VecSG_AVG(listWords):\n",
    "    newList = []\n",
    "    for i in listWords:\n",
    "        if i in word2vec_SkipGram_100d.wv:\n",
    "            newList.append(word2vec_SkipGram_100d.wv[i])\n",
    "    return np.mean(newList,axis=0)\n"
   ]
  },
  {
   "cell_type": "code",
   "execution_count": 9,
   "metadata": {},
   "outputs": [],
   "source": [
    "#Create all datasets with different encodings\n",
    "CBOW_Train_AVG = train_proc['text'].apply(applyWord2VecCBOW_AVG)\n",
    "SG_Train_AVG = train_proc['text'].apply(applyWord2VecSG_AVG)\n",
    "\n",
    "CBOW_Test_AVG = test_proc['text'].apply(applyWord2VecCBOW_AVG)\n",
    "SG_Test_AVG = test_proc['text'].apply(applyWord2VecSG_AVG)"
   ]
  },
  {
   "cell_type": "code",
   "execution_count": 10,
   "metadata": {},
   "outputs": [],
   "source": [
    "#Transform the data into a matrix\n",
    "CBOW_Train_AVG_X = pd.DataFrame(CBOW_Train_AVG.tolist(), index= CBOW_Train_AVG.index)\n",
    "SG_Train_AVG_X = pd.DataFrame(SG_Train_AVG.tolist(), index= CBOW_Train_AVG.index)\n",
    "CBOW_Test_AVG_X = pd.DataFrame(CBOW_Test_AVG.tolist(), index= CBOW_Train_AVG.index)\n",
    "SG_Test_AVG_X = pd.DataFrame(SG_Test_AVG.tolist(), index= CBOW_Train_AVG.index)"
   ]
  },
  {
   "cell_type": "code",
   "execution_count": null,
   "metadata": {},
   "outputs": [],
   "source": [
    "#Split the data into training and validation 70-30\n",
    "CBOW_train_x, CBOW_valid_x, CBOW_train_y, CBOW_valid_y = train_test_split(CBOW_Train_AVG_X, df_train_labels, test_size=0.3, random_state=1) \n",
    "SG_train_x, SG_valid_x, SG_train_y, SG_valid_y = train_test_split(SG_Train_AVG_X, df_train_labels, test_size=0.3, random_state=1) "
   ]
  }
 ],
 "metadata": {
  "kernelspec": {
   "display_name": "Python 3.9.7 64-bit",
   "language": "python",
   "name": "python3"
  },
  "language_info": {
   "codemirror_mode": {
    "name": "ipython",
    "version": 3
   },
   "file_extension": ".py",
   "mimetype": "text/x-python",
   "name": "python",
   "nbconvert_exporter": "python",
   "pygments_lexer": "ipython3",
   "version": "3.9.7"
  },
  "orig_nbformat": 4,
  "vscode": {
   "interpreter": {
    "hash": "05d8f42d34e97b63e1918e352e5e1ee86173089fb3b8c3e567ea1c06d83cd6aa"
   }
  }
 },
 "nbformat": 4,
 "nbformat_minor": 2
}
