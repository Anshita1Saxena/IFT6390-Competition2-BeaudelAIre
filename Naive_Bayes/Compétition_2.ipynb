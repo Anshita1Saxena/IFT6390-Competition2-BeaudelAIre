{
  "nbformat": 4,
  "nbformat_minor": 0,
  "metadata": {
    "colab": {
      "provenance": [],
      "collapsed_sections": [
        "cpd6o6snv4f2",
        "MkdjZxCE5rbP",
        "IwhOOUEKrhy3"
      ],
      "toc_visible": true,
      "machine_shape": "hm",
      "include_colab_link": true
    },
    "kernelspec": {
      "name": "python3",
      "display_name": "Python 3"
    },
    "language_info": {
      "name": "python"
    },
    "gpuClass": "standard",
    "accelerator": "GPU"
  },
  "cells": [
    {
      "cell_type": "markdown",
      "metadata": {
        "id": "view-in-github",
        "colab_type": "text"
      },
      "source": [
        "<a href=\"https://colab.research.google.com/github/VincentGariepy/IFT6390-Competition2-BeaudelAIre/blob/main/Naive_Bayes/Comp%C3%A9tition_2.ipynb\" target=\"_parent\"><img src=\"https://colab.research.google.com/assets/colab-badge.svg\" alt=\"Open In Colab\"/></a>"
      ]
    },
    {
      "cell_type": "markdown",
      "source": [
        "#Compétition 2\n",
        "Anshita Saxena, Denis Lemarchand, Vincent Gariépy"
      ],
      "metadata": {
        "id": "cpd6o6snv4f2"
      }
    },
    {
      "cell_type": "markdown",
      "source": [
        "#Code"
      ],
      "metadata": {
        "id": "f4Pkv3flyNNg"
      }
    },
    {
      "cell_type": "code",
      "execution_count": 1,
      "metadata": {
        "id": "FoLvWqWEvy82"
      },
      "outputs": [],
      "source": [
        "import numpy as np\n",
        "import pandas as pd"
      ]
    },
    {
      "cell_type": "markdown",
      "source": [
        "##Upload Kaggle File from Google Drive"
      ],
      "metadata": {
        "id": "JcyTy6CXyQ6Y"
      }
    },
    {
      "cell_type": "code",
      "source": [
        "#@title Install PyDrive\n",
        "!pip install PyDrive"
      ],
      "metadata": {
        "id": "2-uRO-bywXfn",
        "colab": {
          "base_uri": "https://localhost:8080/"
        },
        "outputId": "f2631567-5f97-442f-8453-7d2d903c8485"
      },
      "execution_count": 2,
      "outputs": [
        {
          "output_type": "stream",
          "name": "stdout",
          "text": [
            "Looking in indexes: https://pypi.org/simple, https://us-python.pkg.dev/colab-wheels/public/simple/\n",
            "Requirement already satisfied: PyDrive in /usr/local/lib/python3.7/dist-packages (1.3.1)\n",
            "Requirement already satisfied: google-api-python-client>=1.2 in /usr/local/lib/python3.7/dist-packages (from PyDrive) (1.12.11)\n",
            "Requirement already satisfied: PyYAML>=3.0 in /usr/local/lib/python3.7/dist-packages (from PyDrive) (6.0)\n",
            "Requirement already satisfied: oauth2client>=4.0.0 in /usr/local/lib/python3.7/dist-packages (from PyDrive) (4.1.3)\n",
            "Requirement already satisfied: google-api-core<3dev,>=1.21.0 in /usr/local/lib/python3.7/dist-packages (from google-api-python-client>=1.2->PyDrive) (2.8.2)\n",
            "Requirement already satisfied: uritemplate<4dev,>=3.0.0 in /usr/local/lib/python3.7/dist-packages (from google-api-python-client>=1.2->PyDrive) (3.0.1)\n",
            "Requirement already satisfied: six<2dev,>=1.13.0 in /usr/local/lib/python3.7/dist-packages (from google-api-python-client>=1.2->PyDrive) (1.15.0)\n",
            "Requirement already satisfied: google-auth-httplib2>=0.0.3 in /usr/local/lib/python3.7/dist-packages (from google-api-python-client>=1.2->PyDrive) (0.0.4)\n",
            "Requirement already satisfied: httplib2<1dev,>=0.15.0 in /usr/local/lib/python3.7/dist-packages (from google-api-python-client>=1.2->PyDrive) (0.17.4)\n",
            "Requirement already satisfied: google-auth<3dev,>=1.16.0 in /usr/local/lib/python3.7/dist-packages (from google-api-python-client>=1.2->PyDrive) (2.14.1)\n",
            "Requirement already satisfied: protobuf<5.0.0dev,>=3.15.0 in /usr/local/lib/python3.7/dist-packages (from google-api-core<3dev,>=1.21.0->google-api-python-client>=1.2->PyDrive) (3.19.6)\n",
            "Requirement already satisfied: requests<3.0.0dev,>=2.18.0 in /usr/local/lib/python3.7/dist-packages (from google-api-core<3dev,>=1.21.0->google-api-python-client>=1.2->PyDrive) (2.23.0)\n",
            "Requirement already satisfied: googleapis-common-protos<2.0dev,>=1.56.2 in /usr/local/lib/python3.7/dist-packages (from google-api-core<3dev,>=1.21.0->google-api-python-client>=1.2->PyDrive) (1.57.0)\n",
            "Requirement already satisfied: pyasn1-modules>=0.2.1 in /usr/local/lib/python3.7/dist-packages (from google-auth<3dev,>=1.16.0->google-api-python-client>=1.2->PyDrive) (0.2.8)\n",
            "Requirement already satisfied: cachetools<6.0,>=2.0.0 in /usr/local/lib/python3.7/dist-packages (from google-auth<3dev,>=1.16.0->google-api-python-client>=1.2->PyDrive) (5.2.0)\n",
            "Requirement already satisfied: rsa<5,>=3.1.4 in /usr/local/lib/python3.7/dist-packages (from google-auth<3dev,>=1.16.0->google-api-python-client>=1.2->PyDrive) (4.9)\n",
            "Requirement already satisfied: pyasn1>=0.1.7 in /usr/local/lib/python3.7/dist-packages (from oauth2client>=4.0.0->PyDrive) (0.4.8)\n",
            "Requirement already satisfied: urllib3!=1.25.0,!=1.25.1,<1.26,>=1.21.1 in /usr/local/lib/python3.7/dist-packages (from requests<3.0.0dev,>=2.18.0->google-api-core<3dev,>=1.21.0->google-api-python-client>=1.2->PyDrive) (1.24.3)\n",
            "Requirement already satisfied: idna<3,>=2.5 in /usr/local/lib/python3.7/dist-packages (from requests<3.0.0dev,>=2.18.0->google-api-core<3dev,>=1.21.0->google-api-python-client>=1.2->PyDrive) (2.10)\n",
            "Requirement already satisfied: certifi>=2017.4.17 in /usr/local/lib/python3.7/dist-packages (from requests<3.0.0dev,>=2.18.0->google-api-core<3dev,>=1.21.0->google-api-python-client>=1.2->PyDrive) (2022.9.24)\n",
            "Requirement already satisfied: chardet<4,>=3.0.2 in /usr/local/lib/python3.7/dist-packages (from requests<3.0.0dev,>=2.18.0->google-api-core<3dev,>=1.21.0->google-api-python-client>=1.2->PyDrive) (3.0.4)\n"
          ]
        }
      ]
    },
    {
      "cell_type": "code",
      "source": [
        "from pydrive.auth import GoogleAuth\n",
        "from pydrive.drive import GoogleDrive\n",
        "from google.colab import auth\n",
        "from oauth2client.client import GoogleCredentials\n",
        "\n",
        "#This notebook should access to Google Drive\n",
        "auth.authenticate_user()\n",
        "gauth = GoogleAuth()\n",
        "gauth.credentials = GoogleCredentials.get_application_default()\n",
        "drive = GoogleDrive(gauth)"
      ],
      "metadata": {
        "id": "wNF-CChvyt9K"
      },
      "execution_count": 3,
      "outputs": []
    },
    {
      "cell_type": "code",
      "source": [
        "# train data\n",
        "# https://drive.google.com/file/d/17cD6hFS_AfKxtfjKxfeNUkC44jfSYkGj/view?usp=sharing\n",
        "# train result\n",
        "# https://drive.google.com/file/d/1iEpwQ3B4d4gIUl3ynq_p74U1QKZTURem/view?usp=sharing\n",
        "# test data\n",
        "# https://drive.google.com/file/d/1QbhqakgLpBXWr5sMFSe-BQpFw_X2XZZR/view?usp=sharing\n",
        "\n",
        "#download Kaggle Files from Google Drive to store it in Colab Session\n",
        "downloaded = drive.CreateFile({'id':\"17cD6hFS_AfKxtfjKxfeNUkC44jfSYkGj\"})   \n",
        "downloaded.GetContentFile('train.csv') \n",
        "\n",
        "downloaded = drive.CreateFile({'id':\"1iEpwQ3B4d4gIUl3ynq_p74U1QKZTURem\"})   \n",
        "downloaded.GetContentFile('train_result.csv')    \n",
        "\n",
        "downloaded = drive.CreateFile({'id':\"1QbhqakgLpBXWr5sMFSe-BQpFw_X2XZZR\"})   \n",
        "downloaded.GetContentFile('test.csv')     "
      ],
      "metadata": {
        "id": "nwyJrWUby2G3"
      },
      "execution_count": 4,
      "outputs": []
    },
    {
      "cell_type": "code",
      "source": [
        "#\n",
        "df_train = pd.read_csv('train.csv')\n",
        "#\n",
        "df_train_result = pd.read_csv('train_result.csv')\n",
        "#\n",
        "df_test = pd.read_csv('test.csv')"
      ],
      "metadata": {
        "id": "RF2vr98u1J8o"
      },
      "execution_count": 5,
      "outputs": []
    },
    {
      "cell_type": "markdown",
      "source": [
        "##Generate submission file"
      ],
      "metadata": {
        "id": "MkdjZxCE5rbP"
      }
    },
    {
      "cell_type": "code",
      "source": [
        "#make submission file from numpy data\n",
        "#The value of class should be 0, 1 or 2 with 0 being negative, 1 being neutral and 2 being positive class.\n",
        "def PrepareKaggleFile(test_inputs, test_predictions, file='tests_label.csv'):\n",
        "    output_data_for_kaggle = np.zeros((len(test_inputs),2))\n",
        "    for i in range(len(test_inputs)):\n",
        "      output_data_for_kaggle[i,0] = i\n",
        "      output_data_for_kaggle[i,1] = test_predictions[i]\n",
        "\n",
        "    output_data_for_kaggle = output_data_for_kaggle.astype(int)\n",
        "\n",
        "    print(output_data_for_kaggle)\n",
        "\n",
        "    df = pd.DataFrame(data=output_data_for_kaggle,columns=['id','target'])\n",
        "    df.to_csv(file,index=False)"
      ],
      "metadata": {
        "id": "wvp8zXNM5u9C"
      },
      "execution_count": 8,
      "outputs": []
    },
    {
      "cell_type": "markdown",
      "source": [
        "##Preprocessing\n",
        "\n",
        "References:\n",
        "*   Data preprocessing techniques: https://www.mdpi.com/2078-2489/12/9/374/htm\n",
        "\n",
        "\n"
      ],
      "metadata": {
        "id": "kCm4dngA3RDR"
      }
    },
    {
      "cell_type": "code",
      "source": [
        "preprocessing_cleanning_mode = True\n",
        "\n",
        "#lowercase_mode = False #0.7775705785664164\n",
        "lowercase_mode = True #0.7799928868724347 --> baseline\n",
        "\n",
        "remove_video_mode = False #True: 0.7799928868724347 --> no impact\n",
        "remove_html_mode = False #True: 0.7796852921669086 --> no improvement\n",
        "clean_stop_word_mode = False #True: 0.7701402439610509 --> no improvement\n",
        "remove_punctuation_mode = False #True: 0.7800890102179117 --> no improvement\n",
        "remove_hashmarks_mode = False #True: 0.7795891688214317 --> no improvement\n",
        "remove_number_mode = False #True: 0.7797718031778378 --> no improvement\n",
        "remove_username_mode = False #True: 0.7789643670758317 --> no improvement\n",
        "remove_url_mode = False #True: 0.7824055828439053 --> no improvement\n",
        "stemming_mode = False #True: 0.775244393605875 --> no improvement"
      ],
      "metadata": {
        "id": "OtGXwW59z9r7"
      },
      "execution_count": 312,
      "outputs": []
    },
    {
      "cell_type": "code",
      "source": [
        "# Data preprocessing dependencies\n",
        "import nltk \n",
        "nltk.download('stopwords')\n",
        "\n",
        "import re                                  \n",
        "import string                             \n",
        "from nltk.corpus import stopwords \n",
        "from nltk.stem import PorterStemmer\n",
        "from nltk.tokenize import TweetTokenizer"
      ],
      "metadata": {
        "colab": {
          "base_uri": "https://localhost:8080/"
        },
        "outputId": "baaab41b-a215-4c03-9640-842a875c4501",
        "id": "1pKeJayPA7wr"
      },
      "execution_count": 313,
      "outputs": [
        {
          "output_type": "stream",
          "name": "stderr",
          "text": [
            "[nltk_data] Downloading package stopwords to /root/nltk_data...\n",
            "[nltk_data]   Package stopwords is already up-to-date!\n"
          ]
        }
      ]
    },
    {
      "cell_type": "code",
      "source": [
        "# Conversion from categorical labels to numeric labels\n",
        "df_train_result[df_train_result[\"target\"]=='negative']=0\n",
        "df_train_result[df_train_result[\"target\"]=='neutral']=1\n",
        "df_train_result[df_train_result[\"target\"]=='positive']=2"
      ],
      "metadata": {
        "id": "fkr4qD6VbkB3"
      },
      "execution_count": 314,
      "outputs": []
    },
    {
      "cell_type": "code",
      "source": [
        "# Checking the train content\n",
        "df_train.head()"
      ],
      "metadata": {
        "colab": {
          "base_uri": "https://localhost:8080/",
          "height": 206
        },
        "id": "OkL-VO8Ssbca",
        "outputId": "11cd7f1f-633f-48a4-ea2d-bbf9d13e1e3c"
      },
      "execution_count": 315,
      "outputs": [
        {
          "output_type": "execute_result",
          "data": {
            "text/plain": [
              "   id                                               text\n",
              "0   0                  Anyway Im getting of for a while \n",
              "1   1  My red, Apache isn't feelin too well this morn...\n",
              "2   2  @danyelljoy you should be  its great. friday w...\n",
              "3   3  its 11:30pm and i dont wanna sleep; so i debat...\n",
              "4   4          Why does twitter eat my DM's?  Not happy "
            ],
            "text/html": [
              "\n",
              "  <div id=\"df-265810b2-3c0c-440c-8754-2d7e13cbd28f\">\n",
              "    <div class=\"colab-df-container\">\n",
              "      <div>\n",
              "<style scoped>\n",
              "    .dataframe tbody tr th:only-of-type {\n",
              "        vertical-align: middle;\n",
              "    }\n",
              "\n",
              "    .dataframe tbody tr th {\n",
              "        vertical-align: top;\n",
              "    }\n",
              "\n",
              "    .dataframe thead th {\n",
              "        text-align: right;\n",
              "    }\n",
              "</style>\n",
              "<table border=\"1\" class=\"dataframe\">\n",
              "  <thead>\n",
              "    <tr style=\"text-align: right;\">\n",
              "      <th></th>\n",
              "      <th>id</th>\n",
              "      <th>text</th>\n",
              "    </tr>\n",
              "  </thead>\n",
              "  <tbody>\n",
              "    <tr>\n",
              "      <th>0</th>\n",
              "      <td>0</td>\n",
              "      <td>Anyway Im getting of for a while</td>\n",
              "    </tr>\n",
              "    <tr>\n",
              "      <th>1</th>\n",
              "      <td>1</td>\n",
              "      <td>My red, Apache isn't feelin too well this morn...</td>\n",
              "    </tr>\n",
              "    <tr>\n",
              "      <th>2</th>\n",
              "      <td>2</td>\n",
              "      <td>@danyelljoy you should be  its great. friday w...</td>\n",
              "    </tr>\n",
              "    <tr>\n",
              "      <th>3</th>\n",
              "      <td>3</td>\n",
              "      <td>its 11:30pm and i dont wanna sleep; so i debat...</td>\n",
              "    </tr>\n",
              "    <tr>\n",
              "      <th>4</th>\n",
              "      <td>4</td>\n",
              "      <td>Why does twitter eat my DM's?  Not happy</td>\n",
              "    </tr>\n",
              "  </tbody>\n",
              "</table>\n",
              "</div>\n",
              "      <button class=\"colab-df-convert\" onclick=\"convertToInteractive('df-265810b2-3c0c-440c-8754-2d7e13cbd28f')\"\n",
              "              title=\"Convert this dataframe to an interactive table.\"\n",
              "              style=\"display:none;\">\n",
              "        \n",
              "  <svg xmlns=\"http://www.w3.org/2000/svg\" height=\"24px\"viewBox=\"0 0 24 24\"\n",
              "       width=\"24px\">\n",
              "    <path d=\"M0 0h24v24H0V0z\" fill=\"none\"/>\n",
              "    <path d=\"M18.56 5.44l.94 2.06.94-2.06 2.06-.94-2.06-.94-.94-2.06-.94 2.06-2.06.94zm-11 1L8.5 8.5l.94-2.06 2.06-.94-2.06-.94L8.5 2.5l-.94 2.06-2.06.94zm10 10l.94 2.06.94-2.06 2.06-.94-2.06-.94-.94-2.06-.94 2.06-2.06.94z\"/><path d=\"M17.41 7.96l-1.37-1.37c-.4-.4-.92-.59-1.43-.59-.52 0-1.04.2-1.43.59L10.3 9.45l-7.72 7.72c-.78.78-.78 2.05 0 2.83L4 21.41c.39.39.9.59 1.41.59.51 0 1.02-.2 1.41-.59l7.78-7.78 2.81-2.81c.8-.78.8-2.07 0-2.86zM5.41 20L4 18.59l7.72-7.72 1.47 1.35L5.41 20z\"/>\n",
              "  </svg>\n",
              "      </button>\n",
              "      \n",
              "  <style>\n",
              "    .colab-df-container {\n",
              "      display:flex;\n",
              "      flex-wrap:wrap;\n",
              "      gap: 12px;\n",
              "    }\n",
              "\n",
              "    .colab-df-convert {\n",
              "      background-color: #E8F0FE;\n",
              "      border: none;\n",
              "      border-radius: 50%;\n",
              "      cursor: pointer;\n",
              "      display: none;\n",
              "      fill: #1967D2;\n",
              "      height: 32px;\n",
              "      padding: 0 0 0 0;\n",
              "      width: 32px;\n",
              "    }\n",
              "\n",
              "    .colab-df-convert:hover {\n",
              "      background-color: #E2EBFA;\n",
              "      box-shadow: 0px 1px 2px rgba(60, 64, 67, 0.3), 0px 1px 3px 1px rgba(60, 64, 67, 0.15);\n",
              "      fill: #174EA6;\n",
              "    }\n",
              "\n",
              "    [theme=dark] .colab-df-convert {\n",
              "      background-color: #3B4455;\n",
              "      fill: #D2E3FC;\n",
              "    }\n",
              "\n",
              "    [theme=dark] .colab-df-convert:hover {\n",
              "      background-color: #434B5C;\n",
              "      box-shadow: 0px 1px 3px 1px rgba(0, 0, 0, 0.15);\n",
              "      filter: drop-shadow(0px 1px 2px rgba(0, 0, 0, 0.3));\n",
              "      fill: #FFFFFF;\n",
              "    }\n",
              "  </style>\n",
              "\n",
              "      <script>\n",
              "        const buttonEl =\n",
              "          document.querySelector('#df-265810b2-3c0c-440c-8754-2d7e13cbd28f button.colab-df-convert');\n",
              "        buttonEl.style.display =\n",
              "          google.colab.kernel.accessAllowed ? 'block' : 'none';\n",
              "\n",
              "        async function convertToInteractive(key) {\n",
              "          const element = document.querySelector('#df-265810b2-3c0c-440c-8754-2d7e13cbd28f');\n",
              "          const dataTable =\n",
              "            await google.colab.kernel.invokeFunction('convertToInteractive',\n",
              "                                                     [key], {});\n",
              "          if (!dataTable) return;\n",
              "\n",
              "          const docLinkHtml = 'Like what you see? Visit the ' +\n",
              "            '<a target=\"_blank\" href=https://colab.research.google.com/notebooks/data_table.ipynb>data table notebook</a>'\n",
              "            + ' to learn more about interactive tables.';\n",
              "          element.innerHTML = '';\n",
              "          dataTable['output_type'] = 'display_data';\n",
              "          await google.colab.output.renderOutput(dataTable, element);\n",
              "          const docLink = document.createElement('div');\n",
              "          docLink.innerHTML = docLinkHtml;\n",
              "          element.appendChild(docLink);\n",
              "        }\n",
              "      </script>\n",
              "    </div>\n",
              "  </div>\n",
              "  "
            ]
          },
          "metadata": {},
          "execution_count": 315
        }
      ]
    },
    {
      "cell_type": "code",
      "source": [
        "# Check the target content\n",
        "df_train_result.head()"
      ],
      "metadata": {
        "colab": {
          "base_uri": "https://localhost:8080/",
          "height": 206
        },
        "id": "uaPiRhSAsnh2",
        "outputId": "49ff5dc0-890e-4406-9de0-22cde58f74a0"
      },
      "execution_count": 316,
      "outputs": [
        {
          "output_type": "execute_result",
          "data": {
            "text/plain": [
              "   id target\n",
              "0   2      2\n",
              "1   0      0\n",
              "2   2      2\n",
              "3   2      2\n",
              "4   0      0"
            ],
            "text/html": [
              "\n",
              "  <div id=\"df-089c5fb9-4639-4e05-835c-a7e8a19ffe4f\">\n",
              "    <div class=\"colab-df-container\">\n",
              "      <div>\n",
              "<style scoped>\n",
              "    .dataframe tbody tr th:only-of-type {\n",
              "        vertical-align: middle;\n",
              "    }\n",
              "\n",
              "    .dataframe tbody tr th {\n",
              "        vertical-align: top;\n",
              "    }\n",
              "\n",
              "    .dataframe thead th {\n",
              "        text-align: right;\n",
              "    }\n",
              "</style>\n",
              "<table border=\"1\" class=\"dataframe\">\n",
              "  <thead>\n",
              "    <tr style=\"text-align: right;\">\n",
              "      <th></th>\n",
              "      <th>id</th>\n",
              "      <th>target</th>\n",
              "    </tr>\n",
              "  </thead>\n",
              "  <tbody>\n",
              "    <tr>\n",
              "      <th>0</th>\n",
              "      <td>2</td>\n",
              "      <td>2</td>\n",
              "    </tr>\n",
              "    <tr>\n",
              "      <th>1</th>\n",
              "      <td>0</td>\n",
              "      <td>0</td>\n",
              "    </tr>\n",
              "    <tr>\n",
              "      <th>2</th>\n",
              "      <td>2</td>\n",
              "      <td>2</td>\n",
              "    </tr>\n",
              "    <tr>\n",
              "      <th>3</th>\n",
              "      <td>2</td>\n",
              "      <td>2</td>\n",
              "    </tr>\n",
              "    <tr>\n",
              "      <th>4</th>\n",
              "      <td>0</td>\n",
              "      <td>0</td>\n",
              "    </tr>\n",
              "  </tbody>\n",
              "</table>\n",
              "</div>\n",
              "      <button class=\"colab-df-convert\" onclick=\"convertToInteractive('df-089c5fb9-4639-4e05-835c-a7e8a19ffe4f')\"\n",
              "              title=\"Convert this dataframe to an interactive table.\"\n",
              "              style=\"display:none;\">\n",
              "        \n",
              "  <svg xmlns=\"http://www.w3.org/2000/svg\" height=\"24px\"viewBox=\"0 0 24 24\"\n",
              "       width=\"24px\">\n",
              "    <path d=\"M0 0h24v24H0V0z\" fill=\"none\"/>\n",
              "    <path d=\"M18.56 5.44l.94 2.06.94-2.06 2.06-.94-2.06-.94-.94-2.06-.94 2.06-2.06.94zm-11 1L8.5 8.5l.94-2.06 2.06-.94-2.06-.94L8.5 2.5l-.94 2.06-2.06.94zm10 10l.94 2.06.94-2.06 2.06-.94-2.06-.94-.94-2.06-.94 2.06-2.06.94z\"/><path d=\"M17.41 7.96l-1.37-1.37c-.4-.4-.92-.59-1.43-.59-.52 0-1.04.2-1.43.59L10.3 9.45l-7.72 7.72c-.78.78-.78 2.05 0 2.83L4 21.41c.39.39.9.59 1.41.59.51 0 1.02-.2 1.41-.59l7.78-7.78 2.81-2.81c.8-.78.8-2.07 0-2.86zM5.41 20L4 18.59l7.72-7.72 1.47 1.35L5.41 20z\"/>\n",
              "  </svg>\n",
              "      </button>\n",
              "      \n",
              "  <style>\n",
              "    .colab-df-container {\n",
              "      display:flex;\n",
              "      flex-wrap:wrap;\n",
              "      gap: 12px;\n",
              "    }\n",
              "\n",
              "    .colab-df-convert {\n",
              "      background-color: #E8F0FE;\n",
              "      border: none;\n",
              "      border-radius: 50%;\n",
              "      cursor: pointer;\n",
              "      display: none;\n",
              "      fill: #1967D2;\n",
              "      height: 32px;\n",
              "      padding: 0 0 0 0;\n",
              "      width: 32px;\n",
              "    }\n",
              "\n",
              "    .colab-df-convert:hover {\n",
              "      background-color: #E2EBFA;\n",
              "      box-shadow: 0px 1px 2px rgba(60, 64, 67, 0.3), 0px 1px 3px 1px rgba(60, 64, 67, 0.15);\n",
              "      fill: #174EA6;\n",
              "    }\n",
              "\n",
              "    [theme=dark] .colab-df-convert {\n",
              "      background-color: #3B4455;\n",
              "      fill: #D2E3FC;\n",
              "    }\n",
              "\n",
              "    [theme=dark] .colab-df-convert:hover {\n",
              "      background-color: #434B5C;\n",
              "      box-shadow: 0px 1px 3px 1px rgba(0, 0, 0, 0.15);\n",
              "      filter: drop-shadow(0px 1px 2px rgba(0, 0, 0, 0.3));\n",
              "      fill: #FFFFFF;\n",
              "    }\n",
              "  </style>\n",
              "\n",
              "      <script>\n",
              "        const buttonEl =\n",
              "          document.querySelector('#df-089c5fb9-4639-4e05-835c-a7e8a19ffe4f button.colab-df-convert');\n",
              "        buttonEl.style.display =\n",
              "          google.colab.kernel.accessAllowed ? 'block' : 'none';\n",
              "\n",
              "        async function convertToInteractive(key) {\n",
              "          const element = document.querySelector('#df-089c5fb9-4639-4e05-835c-a7e8a19ffe4f');\n",
              "          const dataTable =\n",
              "            await google.colab.kernel.invokeFunction('convertToInteractive',\n",
              "                                                     [key], {});\n",
              "          if (!dataTable) return;\n",
              "\n",
              "          const docLinkHtml = 'Like what you see? Visit the ' +\n",
              "            '<a target=\"_blank\" href=https://colab.research.google.com/notebooks/data_table.ipynb>data table notebook</a>'\n",
              "            + ' to learn more about interactive tables.';\n",
              "          element.innerHTML = '';\n",
              "          dataTable['output_type'] = 'display_data';\n",
              "          await google.colab.output.renderOutput(dataTable, element);\n",
              "          const docLink = document.createElement('div');\n",
              "          docLink.innerHTML = docLinkHtml;\n",
              "          element.appendChild(docLink);\n",
              "        }\n",
              "      </script>\n",
              "    </div>\n",
              "  </div>\n",
              "  "
            ]
          },
          "metadata": {},
          "execution_count": 316
        }
      ]
    },
    {
      "cell_type": "code",
      "source": [
        "# Remove punctuation and numbers\n",
        "def remove_punct(text):\n",
        "    text  = \"\".join([char for char in text if char not in string.punctuation])\n",
        "    text = re.sub('[0-9]+', '', text)\n",
        "    return text\n",
        "\n",
        "\"\"\"\n",
        "Snowball Stemmer is also known as the Porter2 stemming algorithm \n",
        "because it is a better version of the Porter Stemmer. It is more aggressive than Porter Stemmer.\n",
        "\"\"\"\n",
        "from nltk.stem.snowball import SnowballStemmer\n",
        "snowBallStemmer = SnowballStemmer(\"english\")\n",
        "def stemming(text):\n",
        "    text = [snowBallStemmer.stem(word) for word in text.split()]\n",
        "    return ' '.join(text)\n",
        "\n",
        "def Preprocessing_Cleanning(df_data):\n",
        "      # Converting all the upper case to lower case to avoid the distinction between them\n",
        "      if lowercase_mode==True:\n",
        "        df_data['text'] = df_data.text.str.lower()\n",
        "\n",
        "      # Putting the regex for removing the https and www URLs\n",
        "      if remove_url_mode==True:\n",
        "        df_data.text = df_data.text.apply(lambda x: re.sub(r'https?:\\/\\/\\S+', '', x))\n",
        "        df_data.text = df_data.text.apply(lambda x: re.sub(r\"www\\.[a-z]?\\.?(com)+|[a-z]+\\.(com)\", '', x))\n",
        "\n",
        "      # Remove the video and links\n",
        "      if remove_video_mode==True:\n",
        "        df_data.text = df_data.text.apply(lambda x: re.sub(r'{link}', '', x))\n",
        "        df_data.text = df_data.text.apply(lambda x: re.sub(r\"\\[video\\]\", '', x))\n",
        "\n",
        "      # Remove html reference characters\n",
        "      if remove_html_mode==True:\n",
        "        df_data.text = df_data.text.apply(lambda x: re.sub(r'&[a-z]+;', '', x))\n",
        "\n",
        "      # Remove usernames\n",
        "      if remove_username_mode==True:\n",
        "        df_data.text = df_data.text.apply(lambda x: re.sub(r'@[^\\s]+', '', x))\n",
        "\n",
        "      # Removing numbers\n",
        "      if remove_number_mode==True:\n",
        "        df_data.text = df_data.text.apply(lambda x: re.sub(r'\\d+', '', x))\n",
        "\n",
        "      # Removing hashmarks, non-letter characters\n",
        "      if remove_hashmarks_mode==True:\n",
        "        df_data.text = df_data.text.apply(lambda x: re.sub(r\"[^a-z\\s\\(\\-:\\)\\\\\\/\\];='#]\", '', x))\n",
        "\n",
        "      # Remove punctuation\n",
        "      if remove_punctuation_mode==True:\n",
        "        df_data['text'] = df_data['text'].apply(lambda x: remove_punct(x))\n",
        "\n",
        "      # Remove stop words\n",
        "      if clean_stop_word_mode==True:\n",
        "          stopword_list = stopwords.words('english')\n",
        "          df_data['text'] = df_data['text'].apply(lambda x: ' '.join([word for word in x.split() if word not in (stopword_list)]))\n",
        "\n",
        "      # stemming\n",
        "      if stemming_mode==True:\n",
        "          df_data['text'] = df_data['text'].apply(lambda x: stemming(x))\n",
        "\n",
        "      return df_data\n"
      ],
      "metadata": {
        "id": "CahohIOm0Szm"
      },
      "execution_count": 317,
      "outputs": []
    },
    {
      "cell_type": "code",
      "source": [
        "# Creating a copy of dataset to point them to the different locations in the memory.\n",
        "df_train_clean = df_train.copy()\n",
        "\n",
        "if preprocessing_cleanning_mode==True:\n",
        "    df_train_clean = Preprocessing_Cleanning(df_train_clean)"
      ],
      "metadata": {
        "id": "xEP9VShJtfMf"
      },
      "execution_count": 318,
      "outputs": []
    },
    {
      "cell_type": "code",
      "source": [
        "# Creating a copy of dataset to point them to the different locations in the memory.\n",
        "df_test_clean = df_test.copy()\n",
        "\n",
        "if preprocessing_cleanning_mode==True:\n",
        "    df_test_clean = Preprocessing_Cleanning(df_test_clean)"
      ],
      "metadata": {
        "id": "dVI3p3W3ttiF"
      },
      "execution_count": 319,
      "outputs": []
    },
    {
      "cell_type": "code",
      "source": [
        "train = df_train_clean.to_numpy()\n",
        "train_inputs = train[:]\n",
        "train_results = df_train_result.to_numpy()\n",
        "train_labels = train_results[:,1]\n",
        "test = df_test_clean.to_numpy()\n",
        "test_inputs = test[:]\n",
        "\n",
        "# Smoke Tests\n",
        "list_classes = np.unique(train_labels)\n",
        "print(list_classes)\n",
        "\n",
        "n = np.random.randint(0, len(train_inputs))\n",
        "print(train_inputs[n], train_labels[n])\n",
        "\n",
        "n = np.random.randint(0, len(test_inputs))\n",
        "print(test_inputs[n])\n",
        "\n",
        "dist_train_labels = [np.sum(train_labels==0)/len(train_labels),\n",
        "  np.sum(train_labels==1)/len(train_labels),\n",
        "  np.sum(train_labels==2)/len(train_labels)]\n",
        "\n",
        "print(dist_train_labels)"
      ],
      "metadata": {
        "id": "8nti8x5b22he",
        "colab": {
          "base_uri": "https://localhost:8080/"
        },
        "outputId": "16a00f45-1f40-4a43-c93b-72d95cfe9a84"
      },
      "execution_count": 320,
      "outputs": [
        {
          "output_type": "stream",
          "name": "stdout",
          "text": [
            "[0 1 2]\n",
            "[1014540 \"@nokiausers many thanks, i'll check it out now enshallah... \"] 2\n",
            "[391402\n",
            " '@mizzxtravagant my ass for you (jayvon seys &quot;pull up your pants negro&quot;)  http://bit.ly/snzqy']\n",
            "[0.49965539548774757, 8.074415349848076e-05, 0.5002638603587539]\n"
          ]
        }
      ]
    },
    {
      "cell_type": "markdown",
      "source": [
        "## SVM & Naive Bayes\n",
        "Source : https://scikit-learn.org/stable/auto_examples/applications/plot_out_of_core_classification.html#sphx-glr-auto-examples-applications-plot-out-of-core-classification-py"
      ],
      "metadata": {
        "id": "IwhOOUEKrhy3"
      }
    },
    {
      "cell_type": "code",
      "source": [
        "Naive_bayes_mode = True\n",
        "batch_mode = False\n",
        "remove_neutral_mode = Naive_bayes_mode\n",
        "hashing_vectorizer_mode=True\n",
        "\n",
        "if Naive_bayes_mode==True:\n",
        "  n_features=2**20\n",
        "else:\n",
        "  n_features=2**26"
      ],
      "metadata": {
        "id": "9ZvHSYYY6S56"
      },
      "execution_count": 396,
      "outputs": []
    },
    {
      "cell_type": "code",
      "source": [
        "from sklearn.feature_extraction.text import HashingVectorizer\n",
        "from sklearn.feature_extraction.text import CountVectorizer, TfidfVectorizer\n",
        "\n",
        "import time\n",
        "from sklearn.linear_model import SGDClassifier\n",
        "from sklearn.naive_bayes import MultinomialNB\n",
        "from sklearn.naive_bayes import ComplementNB\n",
        "from sklearn.naive_bayes import BernoulliNB\n",
        "from sklearn.naive_bayes import GaussianNB\n",
        "from sklearn.model_selection import train_test_split\n",
        "import itertools\n",
        "\n",
        "from sklearn import svm\n",
        "from sklearn.ensemble import AdaBoostClassifier\n",
        "from sklearn.ensemble import RandomForestClassifier\n",
        "from sklearn.tree import plot_tree"
      ],
      "metadata": {
        "id": "CgA9lVIuryd9"
      },
      "execution_count": 410,
      "outputs": []
    },
    {
      "cell_type": "code",
      "source": [
        "# reclassification neutral to negative/positive (only 84 samples over 1 million are neutral)\n",
        "# we have now a binary classfication problem to solve\n",
        "train_labels_copy = train_labels.copy()\n",
        "\n",
        "if remove_neutral_mode==True:\n",
        "    print(len(train_labels[train_labels==0]),len(train_labels[train_labels==1]),\n",
        "          len(train_labels[train_labels==2])) #519803:0 (neg) #84:1 (neutral) #520436:2 (pos) \n",
        "    train_labels_copy[train_labels_copy==1] = 2\n",
        "    print(len(train_labels_copy[train_labels_copy==0]),len(train_labels_copy[train_labels_copy==1]),\n",
        "          len(train_labels_copy[train_labels_copy==2]))\n",
        "    dist_train_labels_copy = [np.sum(train_labels_copy==0)/len(train_labels_copy),\n",
        "          np.sum(train_labels_copy==2)/len(train_labels_copy)]\n",
        "    print(dist_train_labels_copy)\n",
        "    dist_train_labels = dist_train_labels_copy"
      ],
      "metadata": {
        "colab": {
          "base_uri": "https://localhost:8080/"
        },
        "id": "9UGpE7IFhwn3",
        "outputId": "28b9db3e-d8b5-4fb5-d080-1bee6a689618"
      },
      "execution_count": 398,
      "outputs": [
        {
          "output_type": "stream",
          "name": "stdout",
          "text": [
            "519803 84 520436\n",
            "519803 0 520520\n",
            "[0.49965539548774757, 0.5003446045122525]\n"
          ]
        }
      ]
    },
    {
      "cell_type": "code",
      "source": [
        "train_input_text = train_inputs[:,1]\n",
        "train_labels_copy = train_labels_copy.astype(int)\n",
        "\n",
        "X_train_text, X_test_text, y_train, y_test = train_test_split(\n",
        "    train_input_text, train_labels_copy, test_size=0.1, random_state=0)"
      ],
      "metadata": {
        "id": "8EHRSGfD0tKb"
      },
      "execution_count": 399,
      "outputs": []
    },
    {
      "cell_type": "code",
      "source": [
        "# source : https://www.geeksforgeeks.org/ml-mini-batch-gradient-descent-with-python/\n",
        "def create_mini_batches(X, y, batch_size):\n",
        "    mini_batches = []\n",
        "    data = np.hstack((X, y))\n",
        "    np.random.shuffle(data)\n",
        "    n_minibatches = data.shape[0] // batch_size\n",
        "    i = 0\n",
        " \n",
        "    for i in range(n_minibatches + 1):\n",
        "        mini_batch = data[i * batch_size:(i + 1)*batch_size, :]\n",
        "        X_mini = mini_batch[:, :-1]\n",
        "        Y_mini = mini_batch[:, -1].reshape((-1, 1))\n",
        "        mini_batches.append((X_mini, Y_mini))\n",
        "    if data.shape[0] % batch_size != 0:\n",
        "        mini_batch = data[i * batch_size:data.shape[0]]\n",
        "        X_mini = mini_batch[:, :-1]\n",
        "        Y_mini = mini_batch[:, -1].reshape((-1, 1))\n",
        "        mini_batches.append((X_mini, Y_mini))\n",
        "    return mini_batches"
      ],
      "metadata": {
        "id": "76NrJULW8PM7"
      },
      "execution_count": 400,
      "outputs": []
    },
    {
      "cell_type": "code",
      "source": [
        "if hashing_vectorizer_mode==True:\n",
        "  vectorizer = HashingVectorizer(\n",
        "      decode_error=\"ignore\", n_features=n_features, lowercase=True, binary=True\n",
        "  )\n",
        "else:\n",
        "  vectorizer = TfidfVectorizer(\n",
        "      decode_error=\"ignore\",\n",
        "      lowercase=True, min_df = 0.0, binary=True\n",
        "  )\n",
        "\n",
        "if Naive_bayes_mode == True:\n",
        "  cls = MultinomialNB(alpha=1,class_prior=dist_train_labels) #Naive Bayes\n",
        "  #cls = ComplementNB(alpha=1,class_prior=dist_train_labels_copy)\n",
        "  #cls = BernoulliNB(alpha=1,class_prior=dist_train_labels_copy)\n",
        "else:\n",
        "  class_weight = dict(enumerate(dist_train_labels, 0))\n",
        "  cls = SGDClassifier(max_iter=100, class_weight=class_weight, \n",
        "                    alpha=0.0001, penalty='l2', early_stopping=False, validation_fraction=0.1) #SVM\n",
        "  #cls = svm.SVC(C=1, kernel='linear', max_iter=5)\n",
        "\n",
        "if batch_mode == True:\n",
        "  batch_size = 1000\n",
        "  i = 1\n",
        "  X_test = vectorizer.transform(X_test_text)\n",
        "  mini_batches = create_mini_batches(np.array([X_train_text]).T, np.array([y_train]).T,batch_size)\n",
        "  for mini_batch in mini_batches:\n",
        "      i += 1\n",
        "      X, y = mini_batch\n",
        "      X_train = vectorizer.transform(X[:,0])\n",
        "      cls.partial_fit(X_train, y[:,0].astype(int), classes=np.array([0,1,2]))\n",
        "      if(i%10) == 0:\n",
        "        print(i, X_train.shape, cls.score(X_test, y_test))\n",
        "else:\n",
        "  X_train = vectorizer.fit_transform(X_train_text)\n",
        "  X_test = vectorizer.transform(X_test_text)\n",
        "  cls.fit(X_train, y_train)\n",
        "\n",
        "print(cls.score(X_train, y_train))\n",
        "\n",
        "print(cls.score(X_test, y_test))\n",
        "#best fit SVM : 0.7701498562955985, no processing, n_features=2**26, binary=True, remove_neutral_mode=False\n",
        "#best fit NB : 0.7799928868724347, no processing, n_features=2**20, binary=True, remove_neutral_mode=True"
      ],
      "metadata": {
        "id": "9pSl-HbTvTvC",
        "colab": {
          "base_uri": "https://localhost:8080/"
        },
        "outputId": "2ed1d5bc-1639-43fb-85f3-cb9bb9020d43"
      },
      "execution_count": 401,
      "outputs": [
        {
          "output_type": "stream",
          "name": "stdout",
          "text": [
            "0.8120208482414637\n",
            "0.7799928868724347\n"
          ]
        }
      ]
    },
    {
      "cell_type": "markdown",
      "source": [
        "##AdaBoost"
      ],
      "metadata": {
        "id": "5xlp_RRKyugZ"
      }
    },
    {
      "cell_type": "code",
      "source": [
        "base_estimator = None #SGDClassifier(max_iter=100, class_weight=class_weight, \n",
        "                    #alpha=0.0001, penalty='l2', early_stopping=True, validation_fraction=0.1)\n",
        "#svm.SVC(C=1.0, kernel='linear', max_iter=100)#MultinomialNB(alpha=1,class_prior=dist_train_labels_copy)\n",
        "\n",
        "clf = AdaBoostClassifier(base_estimator=base_estimator, n_estimators=20, random_state=0, algorithm='SAMME.R')\n",
        "\n",
        "X_train = vectorizer.transform(X_train_text)\n",
        "X_test = vectorizer.transform(X_test_text)\n",
        "clf.fit(X_train, y_train)\n",
        "\n",
        "print(clf.score(X_train, y_train))\n",
        "print(clf.score(X_test, y_test))"
      ],
      "metadata": {
        "colab": {
          "base_uri": "https://localhost:8080/"
        },
        "id": "-pADAx5D3TUB",
        "outputId": "97f449fd-4249-4ee9-c93c-f2993efd92b9"
      },
      "execution_count": 34,
      "outputs": [
        {
          "output_type": "stream",
          "name": "stdout",
          "text": [
            "0.5664302726719286\n",
            "0.5652437207424568\n"
          ]
        }
      ]
    },
    {
      "cell_type": "markdown",
      "source": [
        "##RandomForest"
      ],
      "metadata": {
        "id": "v3Ywl8BXHka1"
      }
    },
    {
      "cell_type": "code",
      "source": [
        "clf = RandomForestClassifier(n_estimators=500,max_depth=20, random_state=0)\n",
        "\n",
        "X_train = vectorizer.transform(X_train_text)\n",
        "X_test = vectorizer.transform(X_test_text)\n",
        "\n",
        "clf.fit(X_train, y_train)\n",
        "\n",
        "print(clf.score(X_train, y_train))\n",
        "print(clf.score(X_test, y_test))"
      ],
      "metadata": {
        "colab": {
          "base_uri": "https://localhost:8080/"
        },
        "id": "QxgUOtzqHoIx",
        "outputId": "c4bac898-4ec5-4aa2-9bba-d972b7d6b052"
      },
      "execution_count": 416,
      "outputs": [
        {
          "output_type": "stream",
          "name": "stdout",
          "text": [
            "0.7613912356214421\n",
            "0.7510213105456922\n"
          ]
        }
      ]
    },
    {
      "cell_type": "markdown",
      "source": [
        "##Reclassification of near 50% pos or neg to neutral"
      ],
      "metadata": {
        "id": "3GV_CnAUy5Rl"
      }
    },
    {
      "cell_type": "code",
      "source": [
        "#pour NB uniquement\n",
        "pred_proba = cls.predict_proba(X_train)\n",
        "\n",
        "indice_possible_neutre = np.abs(np.round(pred_proba[:,0]-0.5,2)).astype(float) <= 0.001\n",
        "print(np.sum(indice_possible_neutre))\n",
        "possible_neutre = y_train[indice_possible_neutre]\n",
        "count_neg = len(possible_neutre[possible_neutre==0])\n",
        "count_pos = len(possible_neutre[possible_neutre==2])\n",
        "print(possible_neutre)\n",
        "print(count_neg/len(y_train), count_pos/len(y_train))\n",
        "y_train_neutral = np.copy(y_train)\n",
        "y_train_neutral[indice_possible_neutre] = 2\n",
        "\n",
        "dist_y_train_neutral = [np.sum(y_train_neutral==0)/len(y_train_neutral),\n",
        "  np.sum(y_train_neutral==2)/len(y_train_neutral)]\n",
        "\n",
        "print(dist_y_train_neutral)\n",
        "\n",
        "cls = MultinomialNB(alpha=1,class_prior=dist_y_train_neutral) #Naive Bayes\n",
        "X_train = vectorizer.transform(X_train_text)\n",
        "cls.fit(X_train, y_train_neutral)\n",
        "\n",
        "cls.score(X_test, y_test)"
      ],
      "metadata": {
        "colab": {
          "base_uri": "https://localhost:8080/"
        },
        "id": "tMzZhiq_LV3g",
        "outputId": "19c116a5-0266-4c27-e9e7-afebeca3ecff"
      },
      "execution_count": 126,
      "outputs": [
        {
          "output_type": "stream",
          "name": "stdout",
          "text": [
            "15279\n",
            "[2 0 0 ... 0 0 0]\n",
            "0.007028805177882921 0.009289856775144453\n",
            "[0.49265825759113097, 0.5073417424088691]\n"
          ]
        },
        {
          "output_type": "execute_result",
          "data": {
            "text/plain": [
              "0.7811848163563485"
            ]
          },
          "metadata": {},
          "execution_count": 126
        }
      ]
    },
    {
      "cell_type": "markdown",
      "source": [
        "##Create Kaggle File for last model"
      ],
      "metadata": {
        "id": "Ynyc9RBEzHiW"
      }
    },
    {
      "cell_type": "code",
      "source": [
        "test_input_text = test_inputs[:,1]\n",
        "X_test_kaggle = vectorizer.transform(test_input_text)\n",
        "\n",
        "test_pred = cls.predict(X_test_kaggle)\n",
        "\n",
        "PrepareKaggleFile(test_inputs=test_inputs, test_predictions=test_pred, file='tests_label_svm.csv')"
      ],
      "metadata": {
        "colab": {
          "base_uri": "https://localhost:8080/"
        },
        "id": "HOYw6sVAUogy",
        "outputId": "db399370-ffbb-496e-a8df-76e41bd9538f"
      },
      "execution_count": null,
      "outputs": [
        {
          "output_type": "stream",
          "name": "stdout",
          "text": [
            "[[     0      0]\n",
            " [     1      2]\n",
            " [     2      0]\n",
            " ...\n",
            " [560172      0]\n",
            " [560173      2]\n",
            " [560174      2]]\n"
          ]
        }
      ]
    },
    {
      "cell_type": "markdown",
      "source": [
        "##Random prediction"
      ],
      "metadata": {
        "id": "BV-PWCC64BGj"
      }
    },
    {
      "cell_type": "code",
      "source": [
        "# random prediction but aligned with the prior distribution of training labels\n",
        "p=dist_train_labels\n",
        "test_pred_alea = np.random.choice(list_classes, len(test_inputs),p=p)\n",
        "\n",
        "PrepareKaggleFile(test_inputs=test_inputs, test_predictions=test_pred_alea, file='tests_label_alea.csv')"
      ],
      "metadata": {
        "id": "QYgaW64639UR"
      },
      "execution_count": null,
      "outputs": []
    }
  ]
}